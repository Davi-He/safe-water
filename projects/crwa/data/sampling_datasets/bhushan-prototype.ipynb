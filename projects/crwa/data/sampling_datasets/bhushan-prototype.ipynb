{
 "cells": [
  {
   "cell_type": "markdown",
   "metadata": {},
   "source": [
    "# Cleaning the data to build the prototype for crwa\n",
    "\n",
    "### This data cleans the original sql output and performs cleaning tasks. Also checking validity of the results against original report found at\n",
    "### https://www.crwa.org/uploads/1/2/6/7/126781580/crwa_ecoli_web_2017_updated.xlsx"
   ]
  },
  {
   "cell_type": "code",
   "execution_count": null,
   "metadata": {},
   "outputs": [],
   "source": [
    "import pandas as pd\n",
    "pd.options.display.max_rows = 999\n",
    "import numpy as np\n",
    "import matplotlib.pyplot as plt"
   ]
  },
  {
   "cell_type": "code",
   "execution_count": 36,
   "metadata": {},
   "outputs": [],
   "source": [
    "df = pd.read_csv(\"data_for_prototype.csv\")"
   ]
  },
  {
   "cell_type": "code",
   "execution_count": 37,
   "metadata": {
    "scrolled": true
   },
   "outputs": [],
   "source": [
    "# There are 2 rows with Date = Null so droping those rows\n",
    "df = df.dropna(subset=['Date_Collected'])\n"
   ]
  },
  {
   "cell_type": "code",
   "execution_count": 38,
   "metadata": {},
   "outputs": [
    {
     "data": {
      "text/plain": [
       "Date_Collected               0\n",
       "Time_Collected            1691\n",
       "Component_Name               0\n",
       "Site_ID                      0\n",
       "Site_Name                  224\n",
       "Town                       385\n",
       "River_Mile_Headwaters    13262\n",
       "Latitude_DD                862\n",
       "Longitude_DD               862\n",
       "Actual_Result               38\n",
       "Result_Type                  0\n",
       "Unit_Abbreviation            2\n",
       "Reporting_Result            10\n",
       "Result_Type-2                0\n",
       "Unit_Abbreviation-2          0\n",
       "dtype: int64"
      ]
     },
     "execution_count": 38,
     "metadata": {},
     "output_type": "execute_result"
    }
   ],
   "source": [
    "df.isna().sum()"
   ]
  },
  {
   "cell_type": "code",
   "execution_count": 39,
   "metadata": {},
   "outputs": [],
   "source": [
    "# There are following types of invalids in Site_ID \n",
    "invalids = [\"N/A\",\"NULL\",\"ND\"]"
   ]
  },
  {
   "cell_type": "code",
   "execution_count": 40,
   "metadata": {},
   "outputs": [],
   "source": [
    "#Removing these invalid Site_IDs \n",
    "\n",
    "df[\"Site_Name\"] = df[\"Site_Name\"].map(lambda x: np.nan if x in invalids else x)\n",
    "df[\"Site_Name\"].fillna(\"ABCD\", inplace=True)"
   ]
  },
  {
   "cell_type": "code",
   "execution_count": 41,
   "metadata": {},
   "outputs": [],
   "source": [
    "#Removing these invalid Town Names \n",
    "\n",
    "df[\"Town\"] = df[\"Town\"].map(lambda x: np.nan if x in invalids else x)\n",
    "df[\"Town\"].fillna(\"ABCD\", inplace=True)"
   ]
  },
  {
   "cell_type": "code",
   "execution_count": 42,
   "metadata": {},
   "outputs": [
    {
     "data": {
      "text/plain": [
       "<bound method NDFrame.describe of 0        52.1 MI\n",
       "1        53.4 MI\n",
       "2        56.7 MI\n",
       "3        62.1 MI\n",
       "4        64.8 MI\n",
       "          ...   \n",
       "46128    69.5 MI\n",
       "46129    69.5 MI\n",
       "46130    69.5 MI\n",
       "46131    69.5 MI\n",
       "46132    69.5 MI\n",
       "Name: River_Mile_Headwaters, Length: 46133, dtype: object>"
      ]
     },
     "execution_count": 42,
     "metadata": {},
     "output_type": "execute_result"
    }
   ],
   "source": [
    "df[\"River_Mile_Headwaters\"].describe"
   ]
  },
  {
   "cell_type": "code",
   "execution_count": 43,
   "metadata": {},
   "outputs": [],
   "source": [
    "#Removing invalid Miles and selecting only numeric values for miles \n",
    "\n",
    "\n",
    "df[\"River_Mile_Headwaters\"] = df[\"River_Mile_Headwaters\"].map(lambda x: np.nan if x in invalids else x)\n",
    "df[\"River_Mile_Headwaters\"].fillna(\"00.0 MI\", inplace=True)\n",
    "df[\"Mile\"] = pd.to_numeric(df[\"River_Mile_Headwaters\"].str[0:4])"
   ]
  },
  {
   "cell_type": "code",
   "execution_count": 44,
   "metadata": {},
   "outputs": [],
   "source": [
    "#Removing invalid entrees and selecting only numeric values \n",
    "\n",
    "\n",
    "df[\"Latitude_DD\"] = df[\"Latitude_DD\"].map(lambda x: np.nan if x in invalids else x)\n",
    "df[\"Latitude_DD\"].fillna(\"00.0 MI\", inplace=True)\n",
    "df[\"Longitude_DD\"] = df[\"Longitude_DD\"].map(lambda x: np.nan if x in invalids else x)\n",
    "df[\"Longitude_DD\"].fillna(\"00.0 MI\", inplace=True)"
   ]
  },
  {
   "cell_type": "code",
   "execution_count": 45,
   "metadata": {},
   "outputs": [],
   "source": [
    "#Removing invalid entrees and selecting only numeric values \n",
    "\n",
    "\n",
    "df[\"Actual_Result\"] = df[\"Actual_Result\"].map(lambda x: np.nan if x in invalids else x)\n",
    "df[\"Actual_Result\"] = df[\"Actual_Result\"].str.lstrip('>')\n",
    "df[\"Actual_Result\"] = df[\"Actual_Result\"].str.rstrip('>')\n",
    "df[\"Actual_Result\"] = df[\"Actual_Result\"].str.lstrip('<')\n",
    "df[\"Actual_Result\"] = df[\"Actual_Result\"].str.rstrip('<')\n",
    "df[\"Actual_Result\"] = df[\"Actual_Result\"].str.lstrip('*')\n",
    "df[\"Actual_Result\"] = df[\"Actual_Result\"].str.rstrip('*')\n",
    "df[\"Actual_Result\"] = df[\"Actual_Result\"].str.replace(',','')\n",
    "df[\"Actual_Result\"] = df[\"Actual_Result\"].str.replace('%','')\n",
    "df[\"Actual_Result\"] = df[\"Actual_Result\"].str.replace(' ','')\n",
    "df[\"Actual_Result\"] = df[\"Actual_Result\"].str.replace('ND','')\n",
    "df[\"Actual_Result\"] = df[\"Actual_Result\"].str.lstrip('.')\n",
    "df[\"Actual_Result\"] = df[\"Actual_Result\"].str.rstrip('.')\n",
    "df[\"Actual_Result\"] = df[\"Actual_Result\"].str.replace('6..25','6.25')\n",
    "df[\"Actual_Result\"] = df[\"Actual_Result\"].str.replace('480.81546.25291','480.81546')\n",
    "df[\"Actual_Result\"] = df[\"Actual_Result\"].str.replace('379\\r\\n379',\"379\")\n",
    "\n"
   ]
  },
  {
   "cell_type": "code",
   "execution_count": 46,
   "metadata": {},
   "outputs": [],
   "source": [
    "#Functiont to check if string can be converted to numeric\n",
    "\n",
    "#Input --> string\n",
    "#Output --> 1 if convertable else 0\n",
    "\n",
    "def isInt_try(v):\n",
    "    try:     i = float(v)\n",
    "    except:  return False\n",
    "    return True"
   ]
  },
  {
   "cell_type": "code",
   "execution_count": 47,
   "metadata": {},
   "outputs": [],
   "source": [
    "# Applying above function to check any odd strings in Actual_Result Column\n",
    "\n",
    "for i in df[\"Actual_Result\"]:\n",
    "    if isInt_try(i) == 0:\n",
    "        print(i)\n"
   ]
  },
  {
   "cell_type": "code",
   "execution_count": 48,
   "metadata": {},
   "outputs": [],
   "source": [
    "# Checking any odd strings in Actual_Result Column\n",
    "\n",
    "for i in df[\"Actual_Result\"]:\n",
    "    if str(i).count('.') >= 2:\n",
    "        print(i)\n"
   ]
  },
  {
   "cell_type": "code",
   "execution_count": 49,
   "metadata": {},
   "outputs": [],
   "source": [
    "# Converting  Actual_Result to numeric and Date_Collected to datetime data type\n",
    "\n",
    "df[\"Actual_Result\"] = pd.to_numeric(df[\"Actual_Result\"])\n",
    "df[\"Date_Collected\"] = pd.to_datetime(df[\"Date_Collected\"])"
   ]
  },
  {
   "cell_type": "code",
   "execution_count": 50,
   "metadata": {},
   "outputs": [],
   "source": [
    "\"Slicing for E.coli\"\n",
    "\n",
    "df_ecoli = df[df[\"Component_Name\"] == \"Escherichia coli\"]"
   ]
  },
  {
   "cell_type": "code",
   "execution_count": 51,
   "metadata": {},
   "outputs": [
    {
     "data": {
      "text/html": [
       "<div>\n",
       "<style scoped>\n",
       "    .dataframe tbody tr th:only-of-type {\n",
       "        vertical-align: middle;\n",
       "    }\n",
       "\n",
       "    .dataframe tbody tr th {\n",
       "        vertical-align: top;\n",
       "    }\n",
       "\n",
       "    .dataframe thead th {\n",
       "        text-align: right;\n",
       "    }\n",
       "</style>\n",
       "<table border=\"1\" class=\"dataframe\">\n",
       "  <thead>\n",
       "    <tr style=\"text-align: right;\">\n",
       "      <th></th>\n",
       "      <th>Date_Collected</th>\n",
       "      <th>Time_Collected</th>\n",
       "      <th>Component_Name</th>\n",
       "      <th>Site_ID</th>\n",
       "      <th>Site_Name</th>\n",
       "      <th>Town</th>\n",
       "      <th>River_Mile_Headwaters</th>\n",
       "      <th>Latitude_DD</th>\n",
       "      <th>Longitude_DD</th>\n",
       "      <th>Actual_Result</th>\n",
       "      <th>Result_Type</th>\n",
       "      <th>Unit_Abbreviation</th>\n",
       "      <th>Reporting_Result</th>\n",
       "      <th>Result_Type-2</th>\n",
       "      <th>Unit_Abbreviation-2</th>\n",
       "      <th>Mile</th>\n",
       "    </tr>\n",
       "  </thead>\n",
       "  <tbody>\n",
       "    <tr>\n",
       "      <th>6798</th>\n",
       "      <td>2000-08-25 00:00:00-04:00</td>\n",
       "      <td>NaN</td>\n",
       "      <td>Escherichia coli</td>\n",
       "      <td>2LARZ</td>\n",
       "      <td>Larz Anderson Bridge-Center</td>\n",
       "      <td>Cambridge</td>\n",
       "      <td>00.0 MI</td>\n",
       "      <td>42.3691</td>\n",
       "      <td>-71.1235</td>\n",
       "      <td>50.0</td>\n",
       "      <td>Actual</td>\n",
       "      <td>cfu/100ml</td>\n",
       "      <td>50.0</td>\n",
       "      <td>Actual</td>\n",
       "      <td>cfu/100ml</td>\n",
       "      <td>0.0</td>\n",
       "    </tr>\n",
       "    <tr>\n",
       "      <th>9718</th>\n",
       "      <td>2002-06-18 00:00:00-04:00</td>\n",
       "      <td>1899-12-30 05:54:00-05</td>\n",
       "      <td>Escherichia coli</td>\n",
       "      <td>760T</td>\n",
       "      <td>Muddy River at Commonwealth Ave.</td>\n",
       "      <td>Boston</td>\n",
       "      <td>00.0 MI</td>\n",
       "      <td>42.3487</td>\n",
       "      <td>-71.0918</td>\n",
       "      <td>240.0</td>\n",
       "      <td>Actual</td>\n",
       "      <td>cfu/100ml</td>\n",
       "      <td>240.0</td>\n",
       "      <td>Actual</td>\n",
       "      <td>cfu/100ml</td>\n",
       "      <td>0.0</td>\n",
       "    </tr>\n",
       "    <tr>\n",
       "      <th>9720</th>\n",
       "      <td>2002-06-18 00:00:00-04:00</td>\n",
       "      <td>1899-12-30 05:58:00-05</td>\n",
       "      <td>Escherichia coli</td>\n",
       "      <td>567S</td>\n",
       "      <td>Nahanton Park</td>\n",
       "      <td>Needham/Newton</td>\n",
       "      <td>56.7 MI</td>\n",
       "      <td>42.2971</td>\n",
       "      <td>-71.2078</td>\n",
       "      <td>130.0</td>\n",
       "      <td>Actual</td>\n",
       "      <td>cfu/100ml</td>\n",
       "      <td>130.0</td>\n",
       "      <td>Actual</td>\n",
       "      <td>cfu/100ml</td>\n",
       "      <td>56.7</td>\n",
       "    </tr>\n",
       "    <tr>\n",
       "      <th>9722</th>\n",
       "      <td>2002-06-18 00:00:00-04:00</td>\n",
       "      <td>1899-12-30 05:59:00-05</td>\n",
       "      <td>Escherichia coli</td>\n",
       "      <td>484S</td>\n",
       "      <td>Greendale Ave. / Lyons St. / Dedham Medical Ce...</td>\n",
       "      <td>Dedham/Needham</td>\n",
       "      <td>48.4 MI</td>\n",
       "      <td>42.267</td>\n",
       "      <td>-71.205</td>\n",
       "      <td>190.0</td>\n",
       "      <td>Actual</td>\n",
       "      <td>cfu/100ml</td>\n",
       "      <td>190.0</td>\n",
       "      <td>Actual</td>\n",
       "      <td>cfu/100ml</td>\n",
       "      <td>48.4</td>\n",
       "    </tr>\n",
       "    <tr>\n",
       "      <th>9747</th>\n",
       "      <td>2002-06-18 00:00:00-04:00</td>\n",
       "      <td>1899-12-30 06:00:00-05</td>\n",
       "      <td>Escherichia coli</td>\n",
       "      <td>199S</td>\n",
       "      <td>Populatic Pond Boat Launch</td>\n",
       "      <td>Norfolk</td>\n",
       "      <td>19.9 MI</td>\n",
       "      <td>42.1311</td>\n",
       "      <td>-71.3768</td>\n",
       "      <td>210.0</td>\n",
       "      <td>Actual</td>\n",
       "      <td>cfu/100ml</td>\n",
       "      <td>195.0</td>\n",
       "      <td>Calculated</td>\n",
       "      <td>cfu/100ml</td>\n",
       "      <td>19.9</td>\n",
       "    </tr>\n",
       "  </tbody>\n",
       "</table>\n",
       "</div>"
      ],
      "text/plain": [
       "                 Date_Collected          Time_Collected    Component_Name  \\\n",
       "6798  2000-08-25 00:00:00-04:00                     NaN  Escherichia coli   \n",
       "9718  2002-06-18 00:00:00-04:00  1899-12-30 05:54:00-05  Escherichia coli   \n",
       "9720  2002-06-18 00:00:00-04:00  1899-12-30 05:58:00-05  Escherichia coli   \n",
       "9722  2002-06-18 00:00:00-04:00  1899-12-30 05:59:00-05  Escherichia coli   \n",
       "9747  2002-06-18 00:00:00-04:00  1899-12-30 06:00:00-05  Escherichia coli   \n",
       "\n",
       "     Site_ID                                          Site_Name  \\\n",
       "6798   2LARZ                        Larz Anderson Bridge-Center   \n",
       "9718    760T                   Muddy River at Commonwealth Ave.   \n",
       "9720    567S                                      Nahanton Park   \n",
       "9722    484S  Greendale Ave. / Lyons St. / Dedham Medical Ce...   \n",
       "9747    199S                         Populatic Pond Boat Launch   \n",
       "\n",
       "                 Town River_Mile_Headwaters Latitude_DD Longitude_DD  \\\n",
       "6798       Cambridge                00.0 MI     42.3691     -71.1235   \n",
       "9718           Boston               00.0 MI     42.3487     -71.0918   \n",
       "9720   Needham/Newton               56.7 MI     42.2971     -71.2078   \n",
       "9722  Dedham/Needham                48.4 MI      42.267      -71.205   \n",
       "9747          Norfolk               19.9 MI     42.1311     -71.3768   \n",
       "\n",
       "      Actual_Result Result_Type Unit_Abbreviation  Reporting_Result  \\\n",
       "6798           50.0      Actual         cfu/100ml              50.0   \n",
       "9718          240.0      Actual         cfu/100ml             240.0   \n",
       "9720          130.0      Actual         cfu/100ml             130.0   \n",
       "9722          190.0      Actual         cfu/100ml             190.0   \n",
       "9747          210.0      Actual         cfu/100ml             195.0   \n",
       "\n",
       "     Result_Type-2 Unit_Abbreviation-2  Mile  \n",
       "6798        Actual           cfu/100ml   0.0  \n",
       "9718        Actual           cfu/100ml   0.0  \n",
       "9720        Actual           cfu/100ml  56.7  \n",
       "9722        Actual           cfu/100ml  48.4  \n",
       "9747    Calculated           cfu/100ml  19.9  "
      ]
     },
     "execution_count": 51,
     "metadata": {},
     "output_type": "execute_result"
    }
   ],
   "source": [
    "df_ecoli.head()"
   ]
  },
  {
   "cell_type": "code",
   "execution_count": 52,
   "metadata": {},
   "outputs": [
    {
     "data": {
      "text/plain": [
       "43885    122.0\n",
       "Name: Actual_Result, dtype: float64"
      ]
     },
     "execution_count": 52,
     "metadata": {},
     "output_type": "execute_result"
    }
   ],
   "source": [
    "# Validating against the original report\n",
    "\n",
    "result = df_ecoli.loc[(df_ecoli.Town == \"Milford\") & (df_ecoli.Date_Collected == pd.to_datetime(\"2017-11-21 00:00:00-05:00\"))][\"Actual_Result\"]\n",
    "result"
   ]
  },
  {
   "cell_type": "code",
   "execution_count": null,
   "metadata": {},
   "outputs": [],
   "source": []
  }
 ],
 "metadata": {
  "kernelspec": {
   "display_name": "Python 3",
   "language": "python",
   "name": "python3"
  },
  "language_info": {
   "codemirror_mode": {
    "name": "ipython",
    "version": 3
   },
   "file_extension": ".py",
   "mimetype": "text/x-python",
   "name": "python",
   "nbconvert_exporter": "python",
   "pygments_lexer": "ipython3",
   "version": "3.7.5"
  }
 },
 "nbformat": 4,
 "nbformat_minor": 2
}
