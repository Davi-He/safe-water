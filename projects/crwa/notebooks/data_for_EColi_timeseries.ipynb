{
 "cells": [
  {
   "cell_type": "markdown",
   "metadata": {},
   "source": [
    "# E.Coli timeseries\n",
    "\n",
    "This notebooks loads, reshapes and prepare the necessary data to draw time series about E.Coli concentration in the Charles River. It uses the data extracted by [bhushan](https://github.com/codeforboston/safe-water/blob/master/projects/crwa/notebooks/bhushan-eda.ipynb) and saved as [data_for_prototype.csv](https://github.com/codeforboston/safe-water/blob/master/projects/crwa/data/sampling_datasets/data_for_prototype.csv) there.  \n",
    "\n",
    "## Observations, questions and decisions\n",
    "\n",
    "* Grouping and aggregating by site will not be easy, as there are 168 of them... Eventually we could select a few of them (e.g. \"Watertown Dam Footbridge\" or \"Rt. 109 Bridge\"), or we should not aggregate by site at all. Or use _River Mile_, but still 35 of them.\n",
    "* Two types of units exist for E Coli, cfu/100ml and MPN/100ml, but in our case we can consider them as equivalent (I think).  "
   ]
  },
  {
   "cell_type": "code",
   "execution_count": 77,
   "metadata": {},
   "outputs": [],
   "source": [
    "import pandas as pd\n",
    "pd.set_option(\"display.max_rows\", 200)\n",
    "\n",
    "import datetime\n",
    "\n",
    "import matplotlib.pyplot as plt\n",
    "import seaborn as sns\n",
    "%matplotlib inline\n",
    "\n"
   ]
  },
  {
   "cell_type": "code",
   "execution_count": 7,
   "metadata": {},
   "outputs": [
    {
     "name": "stdout",
     "output_type": "stream",
     "text": [
      "(46135, 15)\n"
     ]
    },
    {
     "data": {
      "text/html": [
       "<div>\n",
       "<style scoped>\n",
       "    .dataframe tbody tr th:only-of-type {\n",
       "        vertical-align: middle;\n",
       "    }\n",
       "\n",
       "    .dataframe tbody tr th {\n",
       "        vertical-align: top;\n",
       "    }\n",
       "\n",
       "    .dataframe thead th {\n",
       "        text-align: right;\n",
       "    }\n",
       "</style>\n",
       "<table border=\"1\" class=\"dataframe\">\n",
       "  <thead>\n",
       "    <tr style=\"text-align: right;\">\n",
       "      <th></th>\n",
       "      <th>Date_Collected</th>\n",
       "      <th>Time_Collected</th>\n",
       "      <th>Component_Name</th>\n",
       "      <th>Site_ID</th>\n",
       "      <th>Site_Name</th>\n",
       "      <th>Town</th>\n",
       "      <th>River_Mile_Headwaters</th>\n",
       "      <th>Latitude_DD</th>\n",
       "      <th>Longitude_DD</th>\n",
       "      <th>Actual_Result</th>\n",
       "      <th>Result_Type</th>\n",
       "      <th>Unit_Abbreviation</th>\n",
       "      <th>Reporting_Result</th>\n",
       "      <th>Result_Type-2</th>\n",
       "      <th>Unit_Abbreviation-2</th>\n",
       "    </tr>\n",
       "  </thead>\n",
       "  <tbody>\n",
       "    <tr>\n",
       "      <th>0</th>\n",
       "      <td>1995-06-06 00:00:00-04</td>\n",
       "      <td>1899-12-30 06:00:00-05</td>\n",
       "      <td>Temperature, water</td>\n",
       "      <td>521S</td>\n",
       "      <td>Ames St. Bridge</td>\n",
       "      <td>Dedham</td>\n",
       "      <td>52.1 MI</td>\n",
       "      <td>42.2524</td>\n",
       "      <td>-71.1763</td>\n",
       "      <td>27.6</td>\n",
       "      <td>Actual</td>\n",
       "      <td>deg C</td>\n",
       "      <td>27.6</td>\n",
       "      <td>Actual</td>\n",
       "      <td>deg C</td>\n",
       "    </tr>\n",
       "    <tr>\n",
       "      <th>1</th>\n",
       "      <td>1995-06-06 00:00:00-04</td>\n",
       "      <td>1899-12-30 06:00:00-05</td>\n",
       "      <td>Temperature, water</td>\n",
       "      <td>534S</td>\n",
       "      <td>Rt. 109 Bridge</td>\n",
       "      <td>Boston/Dedham</td>\n",
       "      <td>53.4 MI</td>\n",
       "      <td>42.2708</td>\n",
       "      <td>-71.1732</td>\n",
       "      <td>23</td>\n",
       "      <td>Actual</td>\n",
       "      <td>deg C</td>\n",
       "      <td>23.0</td>\n",
       "      <td>Actual</td>\n",
       "      <td>deg C</td>\n",
       "    </tr>\n",
       "    <tr>\n",
       "      <th>2</th>\n",
       "      <td>1995-06-06 00:00:00-04</td>\n",
       "      <td>1899-12-30 06:00:00-05</td>\n",
       "      <td>Temperature, water</td>\n",
       "      <td>567S</td>\n",
       "      <td>Nahanton Park</td>\n",
       "      <td>Needham/Newton</td>\n",
       "      <td>56.7 MI</td>\n",
       "      <td>42.2971</td>\n",
       "      <td>-71.2078</td>\n",
       "      <td>22.3</td>\n",
       "      <td>Actual</td>\n",
       "      <td>deg C</td>\n",
       "      <td>22.3</td>\n",
       "      <td>Actual</td>\n",
       "      <td>deg C</td>\n",
       "    </tr>\n",
       "    <tr>\n",
       "      <th>3</th>\n",
       "      <td>1995-06-06 00:00:00-04</td>\n",
       "      <td>1899-12-30 06:00:00-05</td>\n",
       "      <td>Temperature, water</td>\n",
       "      <td>621S</td>\n",
       "      <td>Leo J. Martin Golf Course / Park Rd.</td>\n",
       "      <td>Newton/Weston</td>\n",
       "      <td>62.1 MI</td>\n",
       "      <td>42.3306</td>\n",
       "      <td>-71.2680</td>\n",
       "      <td>22.6</td>\n",
       "      <td>Actual</td>\n",
       "      <td>deg C</td>\n",
       "      <td>22.6</td>\n",
       "      <td>Actual</td>\n",
       "      <td>deg C</td>\n",
       "    </tr>\n",
       "    <tr>\n",
       "      <th>4</th>\n",
       "      <td>1995-06-06 00:00:00-04</td>\n",
       "      <td>1899-12-30 06:00:00-05</td>\n",
       "      <td>Temperature, water</td>\n",
       "      <td>648S</td>\n",
       "      <td>Auburndale Park, Lakes Region</td>\n",
       "      <td>Waltham</td>\n",
       "      <td>64.8 MI</td>\n",
       "      <td>42.3615</td>\n",
       "      <td>-71.2501</td>\n",
       "      <td>22.8</td>\n",
       "      <td>Actual</td>\n",
       "      <td>deg C</td>\n",
       "      <td>22.8</td>\n",
       "      <td>Actual</td>\n",
       "      <td>deg C</td>\n",
       "    </tr>\n",
       "  </tbody>\n",
       "</table>\n",
       "</div>"
      ],
      "text/plain": [
       "           Date_Collected          Time_Collected      Component_Name Site_ID  \\\n",
       "0  1995-06-06 00:00:00-04  1899-12-30 06:00:00-05  Temperature, water    521S   \n",
       "1  1995-06-06 00:00:00-04  1899-12-30 06:00:00-05  Temperature, water    534S   \n",
       "2  1995-06-06 00:00:00-04  1899-12-30 06:00:00-05  Temperature, water    567S   \n",
       "3  1995-06-06 00:00:00-04  1899-12-30 06:00:00-05  Temperature, water    621S   \n",
       "4  1995-06-06 00:00:00-04  1899-12-30 06:00:00-05  Temperature, water    648S   \n",
       "\n",
       "                              Site_Name            Town River_Mile_Headwaters  \\\n",
       "0                       Ames St. Bridge          Dedham               52.1 MI   \n",
       "1                        Rt. 109 Bridge   Boston/Dedham               53.4 MI   \n",
       "2                         Nahanton Park  Needham/Newton               56.7 MI   \n",
       "3  Leo J. Martin Golf Course / Park Rd.   Newton/Weston               62.1 MI   \n",
       "4         Auburndale Park, Lakes Region         Waltham               64.8 MI   \n",
       "\n",
       "   Latitude_DD  Longitude_DD Actual_Result Result_Type Unit_Abbreviation  \\\n",
       "0      42.2524      -71.1763          27.6      Actual             deg C   \n",
       "1      42.2708      -71.1732            23      Actual             deg C   \n",
       "2      42.2971      -71.2078          22.3      Actual             deg C   \n",
       "3      42.3306      -71.2680          22.6      Actual             deg C   \n",
       "4      42.3615      -71.2501          22.8      Actual             deg C   \n",
       "\n",
       "   Reporting_Result Result_Type-2 Unit_Abbreviation-2  \n",
       "0              27.6        Actual               deg C  \n",
       "1              23.0        Actual               deg C  \n",
       "2              22.3        Actual               deg C  \n",
       "3              22.6        Actual               deg C  \n",
       "4              22.8        Actual               deg C  "
      ]
     },
     "execution_count": 7,
     "metadata": {},
     "output_type": "execute_result"
    }
   ],
   "source": [
    "samples = pd.read_csv(\"../data/sampling_datasets/data_for_prototype.csv\")\n",
    "print(samples.shape)\n",
    "samples.head()"
   ]
  },
  {
   "cell_type": "code",
   "execution_count": 11,
   "metadata": {},
   "outputs": [
    {
     "data": {
      "text/plain": [
       "Watertown Dam Footbridge                                                                                                  1554\n",
       "Rt. 109 Bridge                                                                                                            1540\n",
       "Central Street Bridge                                                                                                     1524\n",
       "West St. / Dover Rd.                                                                                                      1518\n",
       "Moody St. Bridge                                                                                                          1516\n",
       "Western Ave. Bridge                                                                                                       1474\n",
       "New Charles River Dam                                                                                                     1459\n",
       "Massachusetts Ave. (Harvard) Bridge                                                                                       1408\n",
       "Rt. 126, N. Main St.                                                                                                      1374\n",
       "Longfellow Bridge-Center                                                                                                  1373\n",
       "Elm Bank / Cheney Dr. Bridge                                                                                              1355\n",
       "Washington St. Bridge                                                                                                     1290\n",
       "BU Bridge-Center                                                                                                          1280\n",
       "North Beacon St. Bridge-Center                                                                                            1237\n",
       "Larz Anderson Bridge-Center                                                                                               1230\n",
       "Community Boating                                                                                                         1153\n",
       "Unnamed                                                                                                                   1040\n",
       "New River Dam                                                                                                              907\n",
       "Populatic Pond Boat Launch                                                                                                 864\n",
       "Charles River Road Bridge                                                                                                  853\n",
       "Leo J. Martin Golf Course / Park Rd.                                                                                       850\n",
       "Maple St. Bridge                                                                                                           761\n",
       "Nahanton Park                                                                                                              759\n",
       "Greendale Ave. / Lyons St. / Dedham Medical Center                                                                         755\n",
       "Eliot St. Bridge                                                                                                           754\n",
       "Shaw St. / Elm St. Bridge                                                                                                  751\n",
       "N. Beacon St. Bridge                                                                                                       746\n",
       "Mellen St. Bridge                                                                                                          737\n",
       "Muddy River at Commonwealth Ave.                                                                                           736\n",
       "North St. Bridge                                                                                                           730\n",
       "Farm Rd./Bridge St.                                                                                                        711\n",
       "Causeway St./ Stop River                                                                                                   710\n",
       "Longfellow Bridge                                                                                                          709\n",
       "Ames St. Bridge                                                                                                            700\n",
       "Rt. 115, Baltimore St.                                                                                                     670\n",
       "2391 Commonwealth Ave.                                                                                                     657\n",
       "Arsenal St. Bridge                                                                                                         646\n",
       "Rt. 27 Bridge / S. Main St.                                                                                                634\n",
       "Dwight St. Bridge                                                                                                          587\n",
       "Rt. 9 Gaging Station                                                                                                       561\n",
       "USGS Dover Gage, Mill St.                                                                                                  512\n",
       "Auburndale Park, Lakes Region                                                                                              461\n",
       "MIT Sailing Pavilion                                                                                                       363\n",
       "Esplanade Swim Dock                                                                                                        362\n",
       "Knollwood Dr                                                                                                               271\n",
       "Magazine Beach                                                                                                             269\n",
       "Central St. Discharge Pipe                                                                                                 222\n",
       "Herter Park-Dock                                                                                                           218\n",
       "CRCK Kendall Sq on Broad Canal                                                                                             159\n",
       "Central St. Left Side Discharge Pipe                                                                                       156\n",
       "Weld                                                                                                                       111\n",
       "Northeastern                                                                                                               103\n",
       "Riverside                                                                                                                   96\n",
       "Rotating site 1                                                                                                             89\n",
       "Rotating site 2                                                                                                             75\n",
       "Watertown Dam                                                                                                               66\n",
       "Longfellow Bridge-Left                                                                                                      63\n",
       "Brookline Ave. bridge US                                                                                                    54\n",
       "Longfellow Bridge-Right                                                                                                     54\n",
       "Agassiz Road Bridge DS                                                                                                      45\n",
       "Boston Gate Houses US bridge                                                                                                45\n",
       "Park under Storrow Drive                                                                                                    45\n",
       "Old GZA site                                                                                                                37\n",
       "Larz Anderson Bridge-Right                                                                                                  36\n",
       "Rock in front of outfall pipe                                                                                               36\n",
       "Larz Anderson Bridge-Left                                                                                                   36\n",
       "BU Bridge-Left                                                                                                              36\n",
       "Esplanade Lagoon                                                                                                            36\n",
       "North Beacon St. Bridge-Right                                                                                               36\n",
       "BU Bridge-Right                                                                                                             36\n",
       "Old WAT21 outfall                                                                                                           35\n",
       "Coolidge Ave DS                                                                                                             35\n",
       "Northeastern boathouse dock.                                                                                                31\n",
       "Dover Street bridge                                                                                                         30\n",
       "River sample across from broken concrete pipe                                                                               29\n",
       "St. Michael Cemetery bridge US                                                                                              28\n",
       "Grove Street bridge                                                                                                         28\n",
       "Beaver Brook Reservation Runyon Brook outfall                                                                               28\n",
       "Duck pond area foot bridge                                                                                                  28\n",
       "Rt-135 road bridge                                                                                                          27\n",
       "Traffic circle                                                                                                              27\n",
       "US of culvert leading out of Leverett Pond                                                                                  27\n",
       "Morton St.                                                                                                                  27\n",
       "Brook Street road bridge, off of Rt-135                                                                                     27\n",
       "Harvard Bridge-Center                                                                                                       27\n",
       "Pedestrian bridge US                                                                                                        27\n",
       "Wellesley College service road bridge                                                                                       27\n",
       "Boston Composting Site                                                                                                      27\n",
       "North Beacon St. Bridge-Left                                                                                                27\n",
       "DS of Arlington Street bridge                                                                                               26\n",
       "WAT21B outfall mid-channel                                                                                                  26\n",
       "Rt-135 road bridge culvert                                                                                                  26\n",
       "Scrub-a-Dub car wash                                                                                                        26\n",
       "NEW-68 sign                                                                                                                 25\n",
       "Beaver Brook Reservation                                                                                                    25\n",
       "Beaver St.                                                                                                                  25\n",
       "DS Cheesecake mouth                                                                                                         24\n",
       "Brae Burn Country Club golf course- below the confluence of the two branches of the Brook, collected DS of the bridge.      24\n",
       "Beaver Brook sample                                                                                                         24\n",
       "Waverly Oaks Road river sample                                                                                              24\n",
       "LB Eddy St and Ablemarle Road.                                                                                              24\n",
       "Lotus Parking Lot outfall                                                                                                   24\n",
       "Rt 16 and Ablemarle Rd.                                                                                                     24\n",
       "Lotus Parking Lot                                                                                                           24\n",
       "East culvert DS                                                                                                             24\n",
       "West culvert DS                                                                                                             24\n",
       "Cheesecake Brook Watertown St.                                                                                              23\n",
       "Ward Pond outlet                                                                                                            18\n",
       "Leverett Pond footbridge DS                                                                                                 18\n",
       "Millenium Park footpath culvert                                                                                             18\n",
       "St. Michael Cemetery bridge Outfall US                                                                                      18\n",
       "Boylston and Fenway ramp US                                                                                                 18\n",
       "BWSC outfall #233                                                                                                           18\n",
       "Arlington Street and Lyon Rd outfall                                                                                        18\n",
       "Leverett Pond Village Brook drain US                                                                                        18\n",
       "Dedham Street road crossing US                                                                                              18\n",
       "New stormwater outfall                                                                                                      17\n",
       "Lyman Pond DS                                                                                                               16\n",
       "Pleasant St.                                                                                                                16\n",
       "Concord St.                                                                                                                 16\n",
       "Leverett Pond outfall pipe 70 Jamaicaway                                                                                    16\n",
       "Beaver Brook DS                                                                                                             16\n",
       "DS of bridge by Harvard St.                                                                                                 16\n",
       "Stone-laid channel                                                                                                          15\n",
       "Broken manhole US from Site MUD17A_CUL.                                                                                     15\n",
       "Longwood T station pedestrian bridge PVC pipe                                                                               15\n",
       "Second box culvert                                                                                                          15\n",
       "Circular stone structure manhole                                                                                            15\n",
       "Daisy Field to Leverett Pond erosion gully                                                                                  15\n",
       "U pgradient manhole from MUD20B                                                                                             15\n",
       "PVC outfall across from #35 Park Drive                                                                                      15\n",
       "Brae Burn Country Club golf course - Brook East Branch.                                                                     14\n",
       "Brae Burn Country Club golf course - Brook West Branch.                                                                     14\n",
       "St. Joseph's Cemetery                                                                                                       11\n",
       "St. Joseph's Cemetery US culvert                                                                                            11\n",
       "Needham Street parking lot DS of road                                                                                       11\n",
       "Dedham Street                                                                                                               10\n",
       "Vine St. bridge DS                                                                                                          10\n",
       "Hammon Pond Parkway road bridge US                                                                                          10\n",
       "Winchester Street                                                                                                           10\n",
       "Charles River DS South Meadow Brook                                                                                         10\n",
       "River Road bridge US                                                                                                         9\n",
       "Beaver Brook Reservation Outfall 3                                                                                           9\n",
       "US Beaver Brook discharge                                                                                                    9\n",
       "Leverett Pond, Village Brook drain L                                                                                         9\n",
       "Beaver Brook Reservation Outfall 2                                                                                           9\n",
       "Longwood Ave bridge US                                                                                                       9\n",
       "Leverett Pond, Village Brook drain R                                                                                         9\n",
       "Beaver Brook Reservation Outfall 1                                                                                           9\n",
       "Brookside Ave.                                                                                                               9\n",
       "US Arlington Street bridge                                                                                                   8\n",
       "Gerry Road outfall                                                                                                           8\n",
       "Watertown St. bridge stormdrain                                                                                              8\n",
       "BWSC outfall 12B124 in St. Joseph's Cemetary                                                                                 8\n",
       "Hagen Road                                                                                                                   8\n",
       "Lagrange St. road crossing US                                                                                                8\n",
       "MUD19A_MAN erosion gully                                                                                                     8\n",
       "Mt. Auburn Club DS of outfall pipe                                                                                           7\n",
       "Outfall DS of culvert/weir                                                                                                   7\n",
       "Rotating site 3                                                                                                              7\n",
       "BWSC outfall 14C009                                                                                                          7\n",
       "Rotating site 4                                                                                                              4\n",
       "Parker Street                                                                                                                3\n",
       "End of path between PVC outfall at MUD33A_OUT and river                                                                      2\n",
       "Rotating site 8                                                                                                              1\n",
       "Rotating site 7                                                                                                              1\n",
       "Rotating site 6                                                                                                              1\n",
       "Rotating site 5                                                                                                              1\n",
       "Name: Site_Name, dtype: int64"
      ]
     },
     "execution_count": 11,
     "metadata": {},
     "output_type": "execute_result"
    }
   ],
   "source": [
    "# too many sites to draw a dataviz by site...\n",
    "samples.Site_Name.value_counts()"
   ]
  },
  {
   "cell_type": "code",
   "execution_count": 53,
   "metadata": {},
   "outputs": [
    {
     "data": {
      "text/plain": [
       "Temperature, water                               9540\n",
       "Escherichia coli                                 8321\n",
       "Depth                                            7143\n",
       "Fecal coliform                                   4437\n",
       "Phosphorus                                       1884\n",
       "Enterococcus                                     1297\n",
       "Total suspended solids                           1166\n",
       "Specific conductance                             1152\n",
       "Inorganic nitrogen (nitrate and nitrite)         1143\n",
       "Dissolved oxygen (DO)                            1036\n",
       "Orthophosphate                                   1030\n",
       "Nitrogen                                         1013\n",
       "Ammonia                                          1004\n",
       "Chlorophyll a                                     998\n",
       "pH                                                987\n",
       "Pheophytin a                                      976\n",
       "Salinity                                          775\n",
       "Dissolved oxygen saturation                       672\n",
       "Algae, blue-green (phylum cyanophyta) density     596\n",
       "Barometric pressure                               588\n",
       "Sodium                                            106\n",
       "Surfactants, anionic                               96\n",
       "Ammonium                                           66\n",
       "Conductivity                                       54\n",
       "Nitrite                                            20\n",
       "Nitrate                                            20\n",
       "Chlorine                                           13\n",
       "Name: Component_Name, dtype: int64"
      ]
     },
     "execution_count": 53,
     "metadata": {},
     "output_type": "execute_result"
    }
   ],
   "source": [
    "# E Coli is one of the Component_Name:\n",
    "samples.Component_Name.value_counts()"
   ]
  },
  {
   "cell_type": "markdown",
   "metadata": {},
   "source": [
    "  \n",
    "Note by Lisa on which result to use:\n",
    "\n",
    "_**The 'Actual Results' is what we get from the lab. The 'Reporting Results' is what should be used in analyses.** Most of the time the Actual Result = the Reporting Result. Sometimes, the Actual Result will hit a lab detection limit and be reported as (for example) <10 or >2400 - at that time, we have protocols to remove those symbols. For <, the value is halved (ex. Actual Result <10 becomes Reporting Result 5) and for >, the symbol is removed. This is also reflected in the 'Reporting Result Type ID' column - that value will be 'Calculated' when any of these rules are applied._"
   ]
  },
  {
   "cell_type": "code",
   "execution_count": 63,
   "metadata": {},
   "outputs": [
    {
     "name": "stdout",
     "output_type": "stream",
     "text": [
      "(8321, 4)\n"
     ]
    },
    {
     "data": {
      "text/html": [
       "<div>\n",
       "<style scoped>\n",
       "    .dataframe tbody tr th:only-of-type {\n",
       "        vertical-align: middle;\n",
       "    }\n",
       "\n",
       "    .dataframe tbody tr th {\n",
       "        vertical-align: top;\n",
       "    }\n",
       "\n",
       "    .dataframe thead th {\n",
       "        text-align: right;\n",
       "    }\n",
       "</style>\n",
       "<table border=\"1\" class=\"dataframe\">\n",
       "  <thead>\n",
       "    <tr style=\"text-align: right;\">\n",
       "      <th></th>\n",
       "      <th>Date_Collected</th>\n",
       "      <th>Component_Name</th>\n",
       "      <th>Reporting_Result</th>\n",
       "      <th>Unit_Abbreviation</th>\n",
       "    </tr>\n",
       "  </thead>\n",
       "  <tbody>\n",
       "    <tr>\n",
       "      <th>6798</th>\n",
       "      <td>2000-08-25 00:00:00-04:00</td>\n",
       "      <td>Escherichia coli</td>\n",
       "      <td>50.0</td>\n",
       "      <td>cfu/100ml</td>\n",
       "    </tr>\n",
       "    <tr>\n",
       "      <th>9718</th>\n",
       "      <td>2002-06-18 00:00:00-04:00</td>\n",
       "      <td>Escherichia coli</td>\n",
       "      <td>240.0</td>\n",
       "      <td>cfu/100ml</td>\n",
       "    </tr>\n",
       "    <tr>\n",
       "      <th>9720</th>\n",
       "      <td>2002-06-18 00:00:00-04:00</td>\n",
       "      <td>Escherichia coli</td>\n",
       "      <td>130.0</td>\n",
       "      <td>cfu/100ml</td>\n",
       "    </tr>\n",
       "    <tr>\n",
       "      <th>9722</th>\n",
       "      <td>2002-06-18 00:00:00-04:00</td>\n",
       "      <td>Escherichia coli</td>\n",
       "      <td>190.0</td>\n",
       "      <td>cfu/100ml</td>\n",
       "    </tr>\n",
       "    <tr>\n",
       "      <th>9747</th>\n",
       "      <td>2002-06-18 00:00:00-04:00</td>\n",
       "      <td>Escherichia coli</td>\n",
       "      <td>195.0</td>\n",
       "      <td>cfu/100ml</td>\n",
       "    </tr>\n",
       "  </tbody>\n",
       "</table>\n",
       "</div>"
      ],
      "text/plain": [
       "                 Date_Collected    Component_Name  Reporting_Result  \\\n",
       "6798  2000-08-25 00:00:00-04:00  Escherichia coli              50.0   \n",
       "9718  2002-06-18 00:00:00-04:00  Escherichia coli             240.0   \n",
       "9720  2002-06-18 00:00:00-04:00  Escherichia coli             130.0   \n",
       "9722  2002-06-18 00:00:00-04:00  Escherichia coli             190.0   \n",
       "9747  2002-06-18 00:00:00-04:00  Escherichia coli             195.0   \n",
       "\n",
       "     Unit_Abbreviation  \n",
       "6798         cfu/100ml  \n",
       "9718         cfu/100ml  \n",
       "9720         cfu/100ml  \n",
       "9722         cfu/100ml  \n",
       "9747         cfu/100ml  "
      ]
     },
     "execution_count": 63,
     "metadata": {},
     "output_type": "execute_result"
    }
   ],
   "source": [
    "# select the necessary variables and filter for E.Coli:\n",
    "\n",
    "e_coli = samples[['Date_Collected', 'Component_Name', 'Reporting_Result', 'Unit_Abbreviation']]\n",
    "e_coli = e_coli[e_coli['Component_Name'] == \"Escherichia coli\"]\n",
    "print(e_coli.shape)\n",
    "e_coli.head()"
   ]
  },
  {
   "cell_type": "code",
   "execution_count": 65,
   "metadata": {},
   "outputs": [
    {
     "data": {
      "text/plain": [
       "MPN/100ml    5613\n",
       "cfu/100ml    2708\n",
       "Name: Unit_Abbreviation, dtype: int64"
      ]
     },
     "execution_count": 65,
     "metadata": {},
     "output_type": "execute_result"
    }
   ],
   "source": [
    "# if the same unit is always used, we can delete the column:\n",
    "e_coli.Unit_Abbreviation.value_counts()\n",
    "# ==> it's not!"
   ]
  },
  {
   "cell_type": "markdown",
   "metadata": {},
   "source": [
    "According to [this website](http://www.transformcompostsystems.com/blog/2017/06/24/managing-potential-pathogenic-bacteria-mpn-or-cfu-are-they-the-same/):  \n",
    "\n",
    "_CFU refers to “colony forming units”, whereas MPN refers to “most probable number”. The difference is that CFU/100ml is the actual count from the surface of a plate, and MPN/100ml is a statistical probability of the number of organisms (American Public Health 2012)._\n",
    "\n",
    "There are not always equivalent, but we will assume that they are for this analysis (on [CRWA's website](https://www.crwa.org/water-quality-data.html), the text says _cfu_, but the table says _MPN_...)"
   ]
  },
  {
   "cell_type": "code",
   "execution_count": 75,
   "metadata": {},
   "outputs": [
    {
     "name": "stdout",
     "output_type": "stream",
     "text": [
      "we have so many rows (dates):  (8321,)\n",
      "and so many unique dates:  525\n"
     ]
    }
   ],
   "source": [
    "print(\"we have so many rows (dates): \", e_coli.Date_Collected.shape)\n",
    "print(\"and so many unique dates: \", e_coli.Date_Collected.nunique())"
   ]
  },
  {
   "cell_type": "code",
   "execution_count": 82,
   "metadata": {},
   "outputs": [
    {
     "data": {
      "text/plain": [
       "Date_Collected       0\n",
       "Component_Name       0\n",
       "Reporting_Result     0\n",
       "Unit_Abbreviation    0\n",
       "dtype: int64"
      ]
     },
     "execution_count": 82,
     "metadata": {},
     "output_type": "execute_result"
    }
   ],
   "source": [
    "# we don't have any NAs:\n",
    "e_coli.isnull().sum()"
   ]
  },
  {
   "cell_type": "markdown",
   "metadata": {},
   "source": [
    "Let's try to plot the results by date to see how it looks like.\n"
   ]
  },
  {
   "cell_type": "code",
   "execution_count": 84,
   "metadata": {},
   "outputs": [
    {
     "data": {
      "image/png": "[encoded data removed]",
      "text/plain": [
       "<Figure size 1440x720 with 1 Axes>"
      ]
     },
     "metadata": {
      "needs_background": "light"
     },
     "output_type": "display_data"
    }
   ],
   "source": [
    "# takes 30sec to run\n",
    "plt.figure(figsize=(20,10))\n",
    "# sns.lineplot(x='Date_Collected', y='Reporting_Result', data = e_coli)\n",
    "sns.scatterplot(x='Date_Collected', y='Reporting_Result', data = e_coli)\n",
    "\n",
    "plt.show()"
   ]
  },
  {
   "cell_type": "markdown",
   "metadata": {},
   "source": [
    "Wow, we have some huge values! According to [CRWA's website](https://www.crwa.org/water-quality-data.html), the state water quality standards for swimming are < 126 cfu/100 mL and boating < 630 cfu/100 mL."
   ]
  },
  {
   "cell_type": "code",
   "execution_count": null,
   "metadata": {},
   "outputs": [],
   "source": []
  },
  {
   "cell_type": "code",
   "execution_count": null,
   "metadata": {},
   "outputs": [],
   "source": []
  }
 ],
 "metadata": {
  "kernelspec": {
   "display_name": "Python 3",
   "language": "python",
   "name": "python3"
  },
  "language_info": {
   "codemirror_mode": {
    "name": "ipython",
    "version": 3
   },
   "file_extension": ".py",
   "mimetype": "text/x-python",
   "name": "python",
   "nbconvert_exporter": "python",
   "pygments_lexer": "ipython3",
   "version": "3.7.7"
  }
 },
 "nbformat": 4,
 "nbformat_minor": 4
}
