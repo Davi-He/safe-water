{
 "cells": [
  {
   "cell_type": "code",
   "execution_count": 1,
   "metadata": {
    "ExecuteTime": {
     "end_time": "2020-02-26T02:42:43.679034Z",
     "start_time": "2020-02-26T02:42:42.566809Z"
    }
   },
   "outputs": [],
   "source": [
    "import numpy as np\n",
    "import pandas as pd\n",
    "import matplotlib.pyplot as plt\n",
    "import seaborn as sns\n",
    "\n",
    "import os\n",
    "import datetime\n",
    "import sys\n",
    "\n",
    "import math\n"
   ]
  },
  {
   "cell_type": "code",
   "execution_count": 2,
   "metadata": {
    "ExecuteTime": {
     "end_time": "2020-02-26T02:42:43.700059Z",
     "start_time": "2020-02-26T02:42:43.679034Z"
    },
    "scrolled": true
   },
   "outputs": [],
   "source": [
    "# directory with interim charles river data results\n",
    "results_file = \"../data/charles_river_samples_interim/results_merged_cleaned.csv\""
   ]
  },
  {
   "cell_type": "code",
   "execution_count": 3,
   "metadata": {
    "ExecuteTime": {
     "end_time": "2020-02-26T02:42:43.951178Z",
     "start_time": "2020-02-26T02:42:43.700059Z"
    }
   },
   "outputs": [],
   "source": [
    "results = pd.read_csv(results_file)"
   ]
  },
  {
   "cell_type": "code",
   "execution_count": 4,
   "metadata": {
    "ExecuteTime": {
     "end_time": "2020-02-26T02:42:44.193258Z",
     "start_time": "2020-02-26T02:42:44.130698Z"
    },
    "scrolled": true
   },
   "outputs": [],
   "source": [
    "# starting with code to understand the data ..."
   ]
  },
  {
   "cell_type": "code",
   "execution_count": 5,
   "metadata": {},
   "outputs": [
    {
     "data": {
      "text/html": [
       "<div>\n",
       "<style scoped>\n",
       "    .dataframe tbody tr th:only-of-type {\n",
       "        vertical-align: middle;\n",
       "    }\n",
       "\n",
       "    .dataframe tbody tr th {\n",
       "        vertical-align: top;\n",
       "    }\n",
       "\n",
       "    .dataframe thead th {\n",
       "        text-align: right;\n",
       "    }\n",
       "</style>\n",
       "<table border=\"1\" class=\"dataframe\">\n",
       "  <thead>\n",
       "    <tr style=\"text-align: right;\">\n",
       "      <th></th>\n",
       "      <th>Date_Collected_Time_Collected</th>\n",
       "      <th>Activity_ID</th>\n",
       "      <th>Lab_ID</th>\n",
       "      <th>Site_ID</th>\n",
       "      <th>Project_ID</th>\n",
       "      <th>Actual_Result</th>\n",
       "      <th>Actual_Result_Unit_ID</th>\n",
       "      <th>Result_Sample_Fraction</th>\n",
       "      <th>Reporting_Result</th>\n",
       "      <th>Reporting_Result_Unit_ID</th>\n",
       "      <th>...</th>\n",
       "      <th>Percent_RPD</th>\n",
       "      <th>QAQC_Status</th>\n",
       "      <th>Data_Type_Name</th>\n",
       "      <th>Media_Type_Name</th>\n",
       "      <th>Media_Subdivision_Name</th>\n",
       "      <th>Component_Name</th>\n",
       "      <th>Activity_Type</th>\n",
       "      <th>Actual_Result_Type</th>\n",
       "      <th>Reporting_Result_Type</th>\n",
       "      <th>Relative_Depth_Name</th>\n",
       "    </tr>\n",
       "  </thead>\n",
       "  <tbody>\n",
       "    <tr>\n",
       "      <td>0</td>\n",
       "      <td>2016-04-12 05:58:00</td>\n",
       "      <td>720160412ROV1DTH01</td>\n",
       "      <td>NaN</td>\n",
       "      <td>ROV1</td>\n",
       "      <td>7</td>\n",
       "      <td>0.67</td>\n",
       "      <td>5</td>\n",
       "      <td>NaN</td>\n",
       "      <td>0.67</td>\n",
       "      <td>5</td>\n",
       "      <td>...</td>\n",
       "      <td>372.0</td>\n",
       "      <td>Final-Accepted</td>\n",
       "      <td>Non-critical</td>\n",
       "      <td>Water</td>\n",
       "      <td>Surface Water</td>\n",
       "      <td>Depth</td>\n",
       "      <td>Field Msr/Obs</td>\n",
       "      <td>Actual</td>\n",
       "      <td>Actual</td>\n",
       "      <td>Surface</td>\n",
       "    </tr>\n",
       "    <tr>\n",
       "      <td>1</td>\n",
       "      <td>2016-05-17 05:58:00</td>\n",
       "      <td>720160517ROV1DTH01</td>\n",
       "      <td>NaN</td>\n",
       "      <td>ROV1</td>\n",
       "      <td>7</td>\n",
       "      <td>0.46</td>\n",
       "      <td>5</td>\n",
       "      <td>NaN</td>\n",
       "      <td>5.50</td>\n",
       "      <td>5</td>\n",
       "      <td>...</td>\n",
       "      <td>2.0</td>\n",
       "      <td>Final-Accepted</td>\n",
       "      <td>Non-critical</td>\n",
       "      <td>Water</td>\n",
       "      <td>Surface Water</td>\n",
       "      <td>Depth</td>\n",
       "      <td>Field Msr/Obs</td>\n",
       "      <td>Actual</td>\n",
       "      <td>Actual</td>\n",
       "      <td>Surface</td>\n",
       "    </tr>\n",
       "    <tr>\n",
       "      <td>2</td>\n",
       "      <td>2016-07-19 06:45:00</td>\n",
       "      <td>720160719ROV1DTH01</td>\n",
       "      <td>NaN</td>\n",
       "      <td>ROV1</td>\n",
       "      <td>7</td>\n",
       "      <td>0.33</td>\n",
       "      <td>5</td>\n",
       "      <td>NaN</td>\n",
       "      <td>0.33</td>\n",
       "      <td>5</td>\n",
       "      <td>...</td>\n",
       "      <td>2.0</td>\n",
       "      <td>Final-Accepted</td>\n",
       "      <td>Non-critical</td>\n",
       "      <td>Water</td>\n",
       "      <td>Surface Water</td>\n",
       "      <td>Depth</td>\n",
       "      <td>Field Msr/Obs</td>\n",
       "      <td>Actual</td>\n",
       "      <td>Actual</td>\n",
       "      <td>Surface</td>\n",
       "    </tr>\n",
       "    <tr>\n",
       "      <td>3</td>\n",
       "      <td>2016-07-19 07:00:00</td>\n",
       "      <td>720160719ROV2DTH01</td>\n",
       "      <td>NaN</td>\n",
       "      <td>ROV2</td>\n",
       "      <td>7</td>\n",
       "      <td>0.5</td>\n",
       "      <td>5</td>\n",
       "      <td>NaN</td>\n",
       "      <td>0.50</td>\n",
       "      <td>5</td>\n",
       "      <td>...</td>\n",
       "      <td>4.0</td>\n",
       "      <td>Final-Accepted</td>\n",
       "      <td>Non-critical</td>\n",
       "      <td>Water</td>\n",
       "      <td>Surface Water</td>\n",
       "      <td>Depth</td>\n",
       "      <td>Field Msr/Obs</td>\n",
       "      <td>Actual</td>\n",
       "      <td>Actual</td>\n",
       "      <td>Surface</td>\n",
       "    </tr>\n",
       "    <tr>\n",
       "      <td>4</td>\n",
       "      <td>2016-08-16 07:17:00</td>\n",
       "      <td>720160816ROV1DTH01</td>\n",
       "      <td>NaN</td>\n",
       "      <td>ROV1</td>\n",
       "      <td>7</td>\n",
       "      <td>0.33</td>\n",
       "      <td>5</td>\n",
       "      <td>NaN</td>\n",
       "      <td>0.33</td>\n",
       "      <td>5</td>\n",
       "      <td>...</td>\n",
       "      <td>6.0</td>\n",
       "      <td>Final-Accepted</td>\n",
       "      <td>Non-critical</td>\n",
       "      <td>Water</td>\n",
       "      <td>Surface Water</td>\n",
       "      <td>Depth</td>\n",
       "      <td>Field Msr/Obs</td>\n",
       "      <td>Actual</td>\n",
       "      <td>Actual</td>\n",
       "      <td>Surface</td>\n",
       "    </tr>\n",
       "    <tr>\n",
       "      <td>...</td>\n",
       "      <td>...</td>\n",
       "      <td>...</td>\n",
       "      <td>...</td>\n",
       "      <td>...</td>\n",
       "      <td>...</td>\n",
       "      <td>...</td>\n",
       "      <td>...</td>\n",
       "      <td>...</td>\n",
       "      <td>...</td>\n",
       "      <td>...</td>\n",
       "      <td>...</td>\n",
       "      <td>...</td>\n",
       "      <td>...</td>\n",
       "      <td>...</td>\n",
       "      <td>...</td>\n",
       "      <td>...</td>\n",
       "      <td>...</td>\n",
       "      <td>...</td>\n",
       "      <td>...</td>\n",
       "      <td>...</td>\n",
       "      <td>...</td>\n",
       "    </tr>\n",
       "    <tr>\n",
       "      <td>46445</td>\n",
       "      <td>2008-08-11 09:46:39</td>\n",
       "      <td>FLG200808113BUTemp03</td>\n",
       "      <td>NaN</td>\n",
       "      <td>3BU</td>\n",
       "      <td>3</td>\n",
       "      <td>20.36</td>\n",
       "      <td>4</td>\n",
       "      <td>Total</td>\n",
       "      <td>20.36</td>\n",
       "      <td>4</td>\n",
       "      <td>...</td>\n",
       "      <td>NaN</td>\n",
       "      <td>Preliminary</td>\n",
       "      <td>Critical</td>\n",
       "      <td>Water</td>\n",
       "      <td>Surface Water</td>\n",
       "      <td>Temperature, water</td>\n",
       "      <td>Field Msr/Obs</td>\n",
       "      <td>Actual</td>\n",
       "      <td>Actual</td>\n",
       "      <td>Bottom</td>\n",
       "    </tr>\n",
       "    <tr>\n",
       "      <td>46446</td>\n",
       "      <td>2008-08-11 09:15:20</td>\n",
       "      <td>FLG200808114LONGTemp02</td>\n",
       "      <td>NaN</td>\n",
       "      <td>4LONG</td>\n",
       "      <td>3</td>\n",
       "      <td>21.33</td>\n",
       "      <td>4</td>\n",
       "      <td>Total</td>\n",
       "      <td>21.33</td>\n",
       "      <td>4</td>\n",
       "      <td>...</td>\n",
       "      <td>NaN</td>\n",
       "      <td>Preliminary</td>\n",
       "      <td>Critical</td>\n",
       "      <td>Water</td>\n",
       "      <td>Surface Water</td>\n",
       "      <td>Temperature, water</td>\n",
       "      <td>Field Msr/Obs</td>\n",
       "      <td>Actual</td>\n",
       "      <td>Actual</td>\n",
       "      <td>Bottom</td>\n",
       "    </tr>\n",
       "    <tr>\n",
       "      <td>46447</td>\n",
       "      <td>2008-08-11 09:15:31</td>\n",
       "      <td>FLG200808114LONGTemp03</td>\n",
       "      <td>NaN</td>\n",
       "      <td>4LONG</td>\n",
       "      <td>3</td>\n",
       "      <td>21.33</td>\n",
       "      <td>4</td>\n",
       "      <td>Total</td>\n",
       "      <td>21.33</td>\n",
       "      <td>4</td>\n",
       "      <td>...</td>\n",
       "      <td>NaN</td>\n",
       "      <td>Preliminary</td>\n",
       "      <td>Critical</td>\n",
       "      <td>Water</td>\n",
       "      <td>Surface Water</td>\n",
       "      <td>Temperature, water</td>\n",
       "      <td>Field Msr/Obs</td>\n",
       "      <td>Actual</td>\n",
       "      <td>Actual</td>\n",
       "      <td>Bottom</td>\n",
       "    </tr>\n",
       "    <tr>\n",
       "      <td>46448</td>\n",
       "      <td>2008-08-11 09:21:29</td>\n",
       "      <td>FLG200808114LONGTemp05</td>\n",
       "      <td>NaN</td>\n",
       "      <td>4LONG</td>\n",
       "      <td>3</td>\n",
       "      <td>21.31</td>\n",
       "      <td>4</td>\n",
       "      <td>Total</td>\n",
       "      <td>21.31</td>\n",
       "      <td>4</td>\n",
       "      <td>...</td>\n",
       "      <td>NaN</td>\n",
       "      <td>Preliminary</td>\n",
       "      <td>Critical</td>\n",
       "      <td>Water</td>\n",
       "      <td>Surface Water</td>\n",
       "      <td>Temperature, water</td>\n",
       "      <td>Field Msr/Obs</td>\n",
       "      <td>Actual</td>\n",
       "      <td>Actual</td>\n",
       "      <td>Bottom</td>\n",
       "    </tr>\n",
       "    <tr>\n",
       "      <td>46449</td>\n",
       "      <td>2008-09-02 09:17:00</td>\n",
       "      <td>FLG200809024LONGTemp02</td>\n",
       "      <td>NaN</td>\n",
       "      <td>4LONG</td>\n",
       "      <td>3</td>\n",
       "      <td>16.32</td>\n",
       "      <td>4</td>\n",
       "      <td>Total</td>\n",
       "      <td>16.32</td>\n",
       "      <td>4</td>\n",
       "      <td>...</td>\n",
       "      <td>NaN</td>\n",
       "      <td>Preliminary</td>\n",
       "      <td>Critical</td>\n",
       "      <td>Water</td>\n",
       "      <td>Surface Water</td>\n",
       "      <td>Temperature, water</td>\n",
       "      <td>Field Msr/Obs</td>\n",
       "      <td>Actual</td>\n",
       "      <td>Actual</td>\n",
       "      <td>Bottom</td>\n",
       "    </tr>\n",
       "  </tbody>\n",
       "</table>\n",
       "<p>46450 rows × 27 columns</p>\n",
       "</div>"
      ],
      "text/plain": [
       "      Date_Collected_Time_Collected             Activity_ID Lab_ID Site_ID  \\\n",
       "0               2016-04-12 05:58:00      720160412ROV1DTH01    NaN    ROV1   \n",
       "1               2016-05-17 05:58:00      720160517ROV1DTH01    NaN    ROV1   \n",
       "2               2016-07-19 06:45:00      720160719ROV1DTH01    NaN    ROV1   \n",
       "3               2016-07-19 07:00:00      720160719ROV2DTH01    NaN    ROV2   \n",
       "4               2016-08-16 07:17:00      720160816ROV1DTH01    NaN    ROV1   \n",
       "...                             ...                     ...    ...     ...   \n",
       "46445           2008-08-11 09:46:39    FLG200808113BUTemp03    NaN     3BU   \n",
       "46446           2008-08-11 09:15:20  FLG200808114LONGTemp02    NaN   4LONG   \n",
       "46447           2008-08-11 09:15:31  FLG200808114LONGTemp03    NaN   4LONG   \n",
       "46448           2008-08-11 09:21:29  FLG200808114LONGTemp05    NaN   4LONG   \n",
       "46449           2008-09-02 09:17:00  FLG200809024LONGTemp02    NaN   4LONG   \n",
       "\n",
       "       Project_ID Actual_Result  Actual_Result_Unit_ID Result_Sample_Fraction  \\\n",
       "0               7          0.67                      5                    NaN   \n",
       "1               7          0.46                      5                    NaN   \n",
       "2               7          0.33                      5                    NaN   \n",
       "3               7           0.5                      5                    NaN   \n",
       "4               7          0.33                      5                    NaN   \n",
       "...           ...           ...                    ...                    ...   \n",
       "46445           3         20.36                      4                  Total   \n",
       "46446           3         21.33                      4                  Total   \n",
       "46447           3         21.33                      4                  Total   \n",
       "46448           3         21.31                      4                  Total   \n",
       "46449           3         16.32                      4                  Total   \n",
       "\n",
       "       Reporting_Result  Reporting_Result_Unit_ID  ... Percent_RPD  \\\n",
       "0                  0.67                         5  ...       372.0   \n",
       "1                  5.50                         5  ...         2.0   \n",
       "2                  0.33                         5  ...         2.0   \n",
       "3                  0.50                         5  ...         4.0   \n",
       "4                  0.33                         5  ...         6.0   \n",
       "...                 ...                       ...  ...         ...   \n",
       "46445             20.36                         4  ...         NaN   \n",
       "46446             21.33                         4  ...         NaN   \n",
       "46447             21.33                         4  ...         NaN   \n",
       "46448             21.31                         4  ...         NaN   \n",
       "46449             16.32                         4  ...         NaN   \n",
       "\n",
       "          QAQC_Status Data_Type_Name  Media_Type_Name Media_Subdivision_Name  \\\n",
       "0      Final-Accepted   Non-critical            Water          Surface Water   \n",
       "1      Final-Accepted   Non-critical            Water          Surface Water   \n",
       "2      Final-Accepted   Non-critical            Water          Surface Water   \n",
       "3      Final-Accepted   Non-critical            Water          Surface Water   \n",
       "4      Final-Accepted   Non-critical            Water          Surface Water   \n",
       "...               ...            ...              ...                    ...   \n",
       "46445     Preliminary       Critical            Water          Surface Water   \n",
       "46446     Preliminary       Critical            Water          Surface Water   \n",
       "46447     Preliminary       Critical            Water          Surface Water   \n",
       "46448     Preliminary       Critical            Water          Surface Water   \n",
       "46449     Preliminary       Critical            Water          Surface Water   \n",
       "\n",
       "           Component_Name  Activity_Type  Actual_Result_Type  \\\n",
       "0                   Depth  Field Msr/Obs              Actual   \n",
       "1                   Depth  Field Msr/Obs              Actual   \n",
       "2                   Depth  Field Msr/Obs              Actual   \n",
       "3                   Depth  Field Msr/Obs              Actual   \n",
       "4                   Depth  Field Msr/Obs              Actual   \n",
       "...                   ...            ...                 ...   \n",
       "46445  Temperature, water  Field Msr/Obs              Actual   \n",
       "46446  Temperature, water  Field Msr/Obs              Actual   \n",
       "46447  Temperature, water  Field Msr/Obs              Actual   \n",
       "46448  Temperature, water  Field Msr/Obs              Actual   \n",
       "46449  Temperature, water  Field Msr/Obs              Actual   \n",
       "\n",
       "      Reporting_Result_Type Relative_Depth_Name  \n",
       "0                    Actual             Surface  \n",
       "1                    Actual             Surface  \n",
       "2                    Actual             Surface  \n",
       "3                    Actual             Surface  \n",
       "4                    Actual             Surface  \n",
       "...                     ...                 ...  \n",
       "46445                Actual              Bottom  \n",
       "46446                Actual              Bottom  \n",
       "46447                Actual              Bottom  \n",
       "46448                Actual              Bottom  \n",
       "46449                Actual              Bottom  \n",
       "\n",
       "[46450 rows x 27 columns]"
      ]
     },
     "execution_count": 5,
     "metadata": {},
     "output_type": "execute_result"
    }
   ],
   "source": [
    "# research \n",
    "# show the results file contents\n",
    "results"
   ]
  },
  {
   "cell_type": "code",
   "execution_count": 6,
   "metadata": {},
   "outputs": [
    {
     "data": {
      "text/plain": [
       "array(['Surface Water'], dtype=object)"
      ]
     },
     "execution_count": 6,
     "metadata": {},
     "output_type": "execute_result"
    }
   ],
   "source": [
    "# research:\n",
    "# all 'Media_Subdivision_Name' values are surface water\n",
    "pd.unique(results['Media_Subdivision_Name'])"
   ]
  },
  {
   "cell_type": "code",
   "execution_count": 7,
   "metadata": {},
   "outputs": [
    {
     "data": {
      "text/plain": [
       "array(['Depth', 'Temperature, water', 'Escherichia coli', 'Enterococcus',\n",
       "       'Fecal coliform', 'Inorganic nitrogen (nitrate and nitrite)',\n",
       "       'Phosphorus', 'Total suspended solids', 'Chlorophyll a',\n",
       "       'Pheophytin a', 'Nitrogen', 'Ammonia', 'Orthophosphate', 'Sodium',\n",
       "       'Conductivity', 'Surfactants, anionic', 'Nitrite', 'Nitrate',\n",
       "       'Chlorine', 'Ammonium', 'Barometric pressure',\n",
       "       'Dissolved oxygen saturation', 'Dissolved oxygen (DO)', 'Salinity',\n",
       "       'Algae, blue-green (phylum cyanophyta) density', 'pH',\n",
       "       'Specific conductance'], dtype=object)"
      ]
     },
     "execution_count": 7,
     "metadata": {},
     "output_type": "execute_result"
    }
   ],
   "source": [
    "# research\n",
    "# many different types of measurements are in 'Component_Name'\n",
    "pd.unique(results['Component_Name'])"
   ]
  },
  {
   "cell_type": "code",
   "execution_count": 8,
   "metadata": {},
   "outputs": [
    {
     "data": {
      "text/plain": [
       "Timestamp('2016-04-12 05:58:00')"
      ]
     },
     "execution_count": 8,
     "metadata": {},
     "output_type": "execute_result"
    }
   ],
   "source": [
    "# convert Date_Collected_Time_Collected from string to datetime \n",
    "# (data type is actually pandas._libs.tslibs.timestamps.Timestamp )\n",
    "\n",
    "results['Date_Collected_Time_Collected'] = pd.to_datetime( results['Date_Collected_Time_Collected'] )\n",
    "( results['Date_Collected_Time_Collected'][6657] )"
   ]
  },
  {
   "cell_type": "code",
   "execution_count": 9,
   "metadata": {},
   "outputs": [],
   "source": [
    "# create new column:  which indicates the season collected\n",
    "\n",
    "# season is an int indicating the year and season (first four digits are the year, and the last digit is the season)\n",
    "# dates in December are treated as winter of the next year, so seasonal results are kept together\n",
    "# winter ends with 1, spring ends with 2, summer ends with 3, autumn ends with 4\n",
    "\n",
    "# This link discusses why meteorologists define the seasons this way\n",
    "# https://www.ncei.noaa.gov/news/meteorological-versus-astronomical-seasons\n",
    "\n",
    "def date_to_season(date):\n",
    "    season = date.year*10; # first four digits will be the year\n",
    "    \n",
    "    if date.month == 12: # treat December as winter of the next year\n",
    "       season += 11\n",
    "    elif date.month < 3: # Jan and Feb are winter of the same year\n",
    "        season += 1\n",
    "    elif date.month < 6: # March, April, May are spring\n",
    "        season += 2\n",
    "    elif date.month < 9: # June, July, August are summer\n",
    "        season += 3\n",
    "    else:\n",
    "        season += 4\n",
    "        \n",
    "    return season;\n",
    "\n",
    "results['Season_Collected'] = (results[\"Date_Collected_Time_Collected\"]).apply(date_to_season)"
   ]
  },
  {
   "cell_type": "code",
   "execution_count": 10,
   "metadata": {},
   "outputs": [
    {
     "data": {
      "text/plain": [
       "pandas._libs.tslibs.timestamps.Timestamp"
      ]
     },
     "execution_count": 10,
     "metadata": {},
     "output_type": "execute_result"
    }
   ],
   "source": [
    "# create a year column\n",
    "\n",
    "results['Year'] = results.Date_Collected_Time_Collected.apply(lambda row: row.year)\n",
    "\n",
    "type(results.Date_Collected_Time_Collected[0])"
   ]
  },
  {
   "cell_type": "code",
   "execution_count": 11,
   "metadata": {},
   "outputs": [],
   "source": [
    "# focusing on water temperature"
   ]
  },
  {
   "cell_type": "code",
   "execution_count": 12,
   "metadata": {},
   "outputs": [
    {
     "data": {
      "text/html": [
       "<div>\n",
       "<style scoped>\n",
       "    .dataframe tbody tr th:only-of-type {\n",
       "        vertical-align: middle;\n",
       "    }\n",
       "\n",
       "    .dataframe tbody tr th {\n",
       "        vertical-align: top;\n",
       "    }\n",
       "\n",
       "    .dataframe thead th {\n",
       "        text-align: right;\n",
       "    }\n",
       "</style>\n",
       "<table border=\"1\" class=\"dataframe\">\n",
       "  <thead>\n",
       "    <tr style=\"text-align: right;\">\n",
       "      <th></th>\n",
       "      <th>Date_Collected_Time_Collected</th>\n",
       "      <th>Season_Collected</th>\n",
       "      <th>Year</th>\n",
       "      <th>Reporting_Result</th>\n",
       "    </tr>\n",
       "  </thead>\n",
       "  <tbody>\n",
       "    <tr>\n",
       "      <td>6657</td>\n",
       "      <td>2016-04-12 05:58:00</td>\n",
       "      <td>20162</td>\n",
       "      <td>2016</td>\n",
       "      <td>14.50</td>\n",
       "    </tr>\n",
       "    <tr>\n",
       "      <td>6658</td>\n",
       "      <td>2016-05-17 05:58:00</td>\n",
       "      <td>20162</td>\n",
       "      <td>2016</td>\n",
       "      <td>15.00</td>\n",
       "    </tr>\n",
       "    <tr>\n",
       "      <td>6659</td>\n",
       "      <td>2016-09-20 06:00:00</td>\n",
       "      <td>20164</td>\n",
       "      <td>2016</td>\n",
       "      <td>20.50</td>\n",
       "    </tr>\n",
       "    <tr>\n",
       "      <td>6660</td>\n",
       "      <td>2016-09-20 05:25:00</td>\n",
       "      <td>20164</td>\n",
       "      <td>2016</td>\n",
       "      <td>21.30</td>\n",
       "    </tr>\n",
       "    <tr>\n",
       "      <td>6661</td>\n",
       "      <td>2016-11-15 06:15:00</td>\n",
       "      <td>20164</td>\n",
       "      <td>2016</td>\n",
       "      <td>14.80</td>\n",
       "    </tr>\n",
       "    <tr>\n",
       "      <td>...</td>\n",
       "      <td>...</td>\n",
       "      <td>...</td>\n",
       "      <td>...</td>\n",
       "      <td>...</td>\n",
       "    </tr>\n",
       "    <tr>\n",
       "      <td>46445</td>\n",
       "      <td>2008-08-11 09:46:39</td>\n",
       "      <td>20083</td>\n",
       "      <td>2008</td>\n",
       "      <td>20.36</td>\n",
       "    </tr>\n",
       "    <tr>\n",
       "      <td>46446</td>\n",
       "      <td>2008-08-11 09:15:20</td>\n",
       "      <td>20083</td>\n",
       "      <td>2008</td>\n",
       "      <td>21.33</td>\n",
       "    </tr>\n",
       "    <tr>\n",
       "      <td>46447</td>\n",
       "      <td>2008-08-11 09:15:31</td>\n",
       "      <td>20083</td>\n",
       "      <td>2008</td>\n",
       "      <td>21.33</td>\n",
       "    </tr>\n",
       "    <tr>\n",
       "      <td>46448</td>\n",
       "      <td>2008-08-11 09:21:29</td>\n",
       "      <td>20083</td>\n",
       "      <td>2008</td>\n",
       "      <td>21.31</td>\n",
       "    </tr>\n",
       "    <tr>\n",
       "      <td>46449</td>\n",
       "      <td>2008-09-02 09:17:00</td>\n",
       "      <td>20084</td>\n",
       "      <td>2008</td>\n",
       "      <td>16.32</td>\n",
       "    </tr>\n",
       "  </tbody>\n",
       "</table>\n",
       "<p>9579 rows × 4 columns</p>\n",
       "</div>"
      ],
      "text/plain": [
       "      Date_Collected_Time_Collected  Season_Collected  Year  Reporting_Result\n",
       "6657            2016-04-12 05:58:00             20162  2016             14.50\n",
       "6658            2016-05-17 05:58:00             20162  2016             15.00\n",
       "6659            2016-09-20 06:00:00             20164  2016             20.50\n",
       "6660            2016-09-20 05:25:00             20164  2016             21.30\n",
       "6661            2016-11-15 06:15:00             20164  2016             14.80\n",
       "...                             ...               ...   ...               ...\n",
       "46445           2008-08-11 09:46:39             20083  2008             20.36\n",
       "46446           2008-08-11 09:15:20             20083  2008             21.33\n",
       "46447           2008-08-11 09:15:31             20083  2008             21.33\n",
       "46448           2008-08-11 09:21:29             20083  2008             21.31\n",
       "46449           2008-09-02 09:17:00             20084  2008             16.32\n",
       "\n",
       "[9579 rows x 4 columns]"
      ]
     },
     "execution_count": 12,
     "metadata": {},
     "output_type": "execute_result"
    }
   ],
   "source": [
    "# from results table, only pull out the records (rows) for water temperature, and only pull out a few fields (columns)\n",
    "\n",
    "results_temperature = results[results['Component_Name']=='Temperature, water'][['Date_Collected_Time_Collected', 'Season_Collected', 'Year', 'Reporting_Result']]\n",
    "results_temperature"
   ]
  },
  {
   "cell_type": "code",
   "execution_count": 13,
   "metadata": {},
   "outputs": [
    {
     "data": {
      "text/plain": [
       "array([19953, 19954, 19962, 19963, 19964, 19971, 19972, 19973, 19974,\n",
       "       19981, 19982, 19983, 19984, 19991, 19992, 19993, 19994, 20001,\n",
       "       20002, 20003, 20004, 20011, 20012, 20013, 20014, 20021, 20032,\n",
       "       20033, 20034, 20041, 20042, 20043, 20044, 20051, 20052, 20053,\n",
       "       20054, 20061, 20062, 20063, 20064, 20071, 20072, 20073, 20074,\n",
       "       20081, 20082, 20083, 20084, 20091, 20092, 20093, 20094, 20101,\n",
       "       20102, 20103, 20104, 20111, 20112, 20113, 20114, 20121, 20122,\n",
       "       20123, 20124, 20131, 20132, 20133, 20134, 20141, 20142, 20143,\n",
       "       20144, 20151, 20152, 20153, 20154, 20161, 20162, 20163, 20164,\n",
       "       20171, 20172, 20173, 20174, 20181, 20182, 20183, 20184, 20191],\n",
       "      dtype=int64)"
      ]
     },
     "execution_count": 13,
     "metadata": {},
     "output_type": "execute_result"
    }
   ],
   "source": [
    "# research only\n",
    "\n",
    "# list all seasons where this data was collected\n",
    "# note:  no temperature measurements from Spring 2002 through Winter 2002/3\n",
    "np.sort( results_temperature['Season_Collected'].unique() )"
   ]
  },
  {
   "cell_type": "code",
   "execution_count": null,
   "metadata": {},
   "outputs": [],
   "source": []
  },
  {
   "cell_type": "code",
   "execution_count": 14,
   "metadata": {},
   "outputs": [
    {
     "data": {
      "text/plain": [
       "<matplotlib.axes._subplots.AxesSubplot at 0x1c43dfcd748>"
      ]
     },
     "execution_count": 14,
     "metadata": {},
     "output_type": "execute_result"
    },
    {
     "data": {
      "image/png": "[encoded data removed]",
      "text/plain": [
       "<Figure size 432x288 with 1 Axes>"
      ]
     },
     "metadata": {
      "needs_background": "light"
     },
     "output_type": "display_data"
    }
   ],
   "source": [
    "# plotting temperature results values:\n",
    "# reset index is necessary make the index go from 0 to (length-1)\n",
    "\n",
    "# note the cycle observed here is due to the change of seasons throughout the year\n",
    "\n",
    "res_plot = ( results_temperature.sort_values(by=['Date_Collected_Time_Collected']) )['Reporting_Result']\n",
    "res_plot.reset_index(drop=True).plot()"
   ]
  },
  {
   "cell_type": "code",
   "execution_count": 15,
   "metadata": {},
   "outputs": [
    {
     "data": {
      "text/html": [
       "<div>\n",
       "<style scoped>\n",
       "    .dataframe tbody tr th:only-of-type {\n",
       "        vertical-align: middle;\n",
       "    }\n",
       "\n",
       "    .dataframe tbody tr th {\n",
       "        vertical-align: top;\n",
       "    }\n",
       "\n",
       "    .dataframe thead th {\n",
       "        text-align: right;\n",
       "    }\n",
       "</style>\n",
       "<table border=\"1\" class=\"dataframe\">\n",
       "  <thead>\n",
       "    <tr style=\"text-align: right;\">\n",
       "      <th></th>\n",
       "      <th>Date_Collected_Time_Collected</th>\n",
       "      <th>Season_Collected</th>\n",
       "      <th>Year</th>\n",
       "      <th>Reporting_Result</th>\n",
       "    </tr>\n",
       "  </thead>\n",
       "  <tbody>\n",
       "    <tr>\n",
       "      <td>6840</td>\n",
       "      <td>1995-06-06 06:00:00</td>\n",
       "      <td>19953</td>\n",
       "      <td>1995</td>\n",
       "      <td>27.6</td>\n",
       "    </tr>\n",
       "    <tr>\n",
       "      <td>6841</td>\n",
       "      <td>1995-06-06 06:00:00</td>\n",
       "      <td>19953</td>\n",
       "      <td>1995</td>\n",
       "      <td>23.0</td>\n",
       "    </tr>\n",
       "    <tr>\n",
       "      <td>6842</td>\n",
       "      <td>1995-06-06 06:00:00</td>\n",
       "      <td>19953</td>\n",
       "      <td>1995</td>\n",
       "      <td>22.3</td>\n",
       "    </tr>\n",
       "    <tr>\n",
       "      <td>6843</td>\n",
       "      <td>1995-06-06 06:00:00</td>\n",
       "      <td>19953</td>\n",
       "      <td>1995</td>\n",
       "      <td>22.6</td>\n",
       "    </tr>\n",
       "    <tr>\n",
       "      <td>6844</td>\n",
       "      <td>1995-06-06 06:00:00</td>\n",
       "      <td>19953</td>\n",
       "      <td>1995</td>\n",
       "      <td>22.8</td>\n",
       "    </tr>\n",
       "    <tr>\n",
       "      <td>...</td>\n",
       "      <td>...</td>\n",
       "      <td>...</td>\n",
       "      <td>...</td>\n",
       "      <td>...</td>\n",
       "    </tr>\n",
       "    <tr>\n",
       "      <td>13713</td>\n",
       "      <td>2018-12-11 06:05:00</td>\n",
       "      <td>20191</td>\n",
       "      <td>2018</td>\n",
       "      <td>1.5</td>\n",
       "    </tr>\n",
       "    <tr>\n",
       "      <td>13740</td>\n",
       "      <td>2018-12-11 06:08:00</td>\n",
       "      <td>20191</td>\n",
       "      <td>2018</td>\n",
       "      <td>0.3</td>\n",
       "    </tr>\n",
       "    <tr>\n",
       "      <td>13716</td>\n",
       "      <td>2018-12-11 06:09:00</td>\n",
       "      <td>20191</td>\n",
       "      <td>2018</td>\n",
       "      <td>0.0</td>\n",
       "    </tr>\n",
       "    <tr>\n",
       "      <td>13735</td>\n",
       "      <td>2018-12-11 06:09:00</td>\n",
       "      <td>20191</td>\n",
       "      <td>2018</td>\n",
       "      <td>1.9</td>\n",
       "    </tr>\n",
       "    <tr>\n",
       "      <td>13712</td>\n",
       "      <td>2018-12-11 06:20:00</td>\n",
       "      <td>20191</td>\n",
       "      <td>2018</td>\n",
       "      <td>1.0</td>\n",
       "    </tr>\n",
       "  </tbody>\n",
       "</table>\n",
       "<p>9579 rows × 4 columns</p>\n",
       "</div>"
      ],
      "text/plain": [
       "      Date_Collected_Time_Collected  Season_Collected  Year  Reporting_Result\n",
       "6840            1995-06-06 06:00:00             19953  1995              27.6\n",
       "6841            1995-06-06 06:00:00             19953  1995              23.0\n",
       "6842            1995-06-06 06:00:00             19953  1995              22.3\n",
       "6843            1995-06-06 06:00:00             19953  1995              22.6\n",
       "6844            1995-06-06 06:00:00             19953  1995              22.8\n",
       "...                             ...               ...   ...               ...\n",
       "13713           2018-12-11 06:05:00             20191  2018               1.5\n",
       "13740           2018-12-11 06:08:00             20191  2018               0.3\n",
       "13716           2018-12-11 06:09:00             20191  2018               0.0\n",
       "13735           2018-12-11 06:09:00             20191  2018               1.9\n",
       "13712           2018-12-11 06:20:00             20191  2018               1.0\n",
       "\n",
       "[9579 rows x 4 columns]"
      ]
     },
     "execution_count": 15,
     "metadata": {},
     "output_type": "execute_result"
    }
   ],
   "source": [
    "( results_temperature.sort_values(by=['Date_Collected_Time_Collected']) )"
   ]
  },
  {
   "cell_type": "code",
   "execution_count": 16,
   "metadata": {},
   "outputs": [],
   "source": [
    "# only use summertime data\n",
    "# This is because people are more likely to go boating on and swimming in the\n",
    "# Charles River during the summer, therefore summertime conditions are \n",
    "# anticipated to be more of interest to the CRWA than the other three seasons\n",
    "results_temperature_summer = results_temperature[results_temperature['Season_Collected']%10 == 3]"
   ]
  },
  {
   "cell_type": "code",
   "execution_count": 17,
   "metadata": {},
   "outputs": [
    {
     "data": {
      "text/plain": [
       "Text(0.5, 1.0, '')"
      ]
     },
     "execution_count": 17,
     "metadata": {},
     "output_type": "execute_result"
    },
    {
     "data": {
      "image/png": "[encoded data removed]",
      "text/plain": [
       "<Figure size 432x288 with 1 Axes>"
      ]
     },
     "metadata": {
      "needs_background": "light"
     },
     "output_type": "display_data"
    }
   ],
   "source": [
    "# create boxplot of summer data\n",
    "# improvements wanted:  change title,\n",
    "# space it out to show gap for missing 2002 data, create a linear regression showing the overall trend (if any)\n",
    "\n",
    "# boxplot command\n",
    "ax = results_temperature_summer.boxplot(by='Year', column='Reporting_Result', rot=90)\n",
    "\n",
    "# labelling\n",
    "ax.set_xlabel(\"Summer (June through August of Year)\")\n",
    "ax.set_ylabel(\"Temperature\")\n",
    "ax.set_title(\"\")\n",
    "\n",
    "\n"
   ]
  },
  {
   "cell_type": "code",
   "execution_count": 18,
   "metadata": {},
   "outputs": [
    {
     "data": {
      "text/plain": [
       "<matplotlib.axes._subplots.AxesSubplot at 0x1c440029688>"
      ]
     },
     "execution_count": 18,
     "metadata": {},
     "output_type": "execute_result"
    },
    {
     "data": {
      "image/png": "[encoded data removed]",
      "text/plain": [
       "<Figure size 432x288 with 1 Axes>"
      ]
     },
     "metadata": {
      "needs_background": "light"
     },
     "output_type": "display_data"
    }
   ],
   "source": [
    "# plotting temperature results (summer only) values:\n",
    "# reset index is necessary to make the index go from 0 to (length-1)\n",
    "res_plot = ( results_temperature_summer.sort_values(by=['Date_Collected_Time_Collected']) )['Reporting_Result']\n",
    "res_plot.reset_index(drop=True).plot()"
   ]
  },
  {
   "cell_type": "code",
   "execution_count": 19,
   "metadata": {},
   "outputs": [],
   "source": [
    "# precipitation"
   ]
  },
  {
   "cell_type": "code",
   "execution_count": 20,
   "metadata": {},
   "outputs": [],
   "source": [
    "# directory with precipitation measurements\n",
    "rainfall_file = \"../data/charles_river_samples_csv/Rainfall.csv\""
   ]
  },
  {
   "cell_type": "code",
   "execution_count": 21,
   "metadata": {},
   "outputs": [],
   "source": [
    "rainfall = pd.read_csv(rainfall_file)"
   ]
  },
  {
   "cell_type": "code",
   "execution_count": 22,
   "metadata": {},
   "outputs": [
    {
     "data": {
      "text/html": [
       "<div>\n",
       "<style scoped>\n",
       "    .dataframe tbody tr th:only-of-type {\n",
       "        vertical-align: middle;\n",
       "    }\n",
       "\n",
       "    .dataframe tbody tr th {\n",
       "        vertical-align: top;\n",
       "    }\n",
       "\n",
       "    .dataframe thead th {\n",
       "        text-align: right;\n",
       "    }\n",
       "</style>\n",
       "<table border=\"1\" class=\"dataframe\">\n",
       "  <thead>\n",
       "    <tr style=\"text-align: right;\">\n",
       "      <th></th>\n",
       "      <th>DATE</th>\n",
       "      <th>ID</th>\n",
       "      <th>Precipitation</th>\n",
       "    </tr>\n",
       "  </thead>\n",
       "  <tbody>\n",
       "    <tr>\n",
       "      <td>0</td>\n",
       "      <td>01/01/1995</td>\n",
       "      <td>1</td>\n",
       "      <td>1.07</td>\n",
       "    </tr>\n",
       "    <tr>\n",
       "      <td>1</td>\n",
       "      <td>01/02/1995</td>\n",
       "      <td>2</td>\n",
       "      <td>0.44</td>\n",
       "    </tr>\n",
       "    <tr>\n",
       "      <td>2</td>\n",
       "      <td>01/03/1995</td>\n",
       "      <td>3</td>\n",
       "      <td>0.00</td>\n",
       "    </tr>\n",
       "    <tr>\n",
       "      <td>3</td>\n",
       "      <td>01/04/1995</td>\n",
       "      <td>4</td>\n",
       "      <td>0.00</td>\n",
       "    </tr>\n",
       "    <tr>\n",
       "      <td>4</td>\n",
       "      <td>01/05/1995</td>\n",
       "      <td>5</td>\n",
       "      <td>0.00</td>\n",
       "    </tr>\n",
       "    <tr>\n",
       "      <td>...</td>\n",
       "      <td>...</td>\n",
       "      <td>...</td>\n",
       "      <td>...</td>\n",
       "    </tr>\n",
       "    <tr>\n",
       "      <td>6052</td>\n",
       "      <td>NaN</td>\n",
       "      <td>6053</td>\n",
       "      <td>NaN</td>\n",
       "    </tr>\n",
       "    <tr>\n",
       "      <td>6053</td>\n",
       "      <td>NaN</td>\n",
       "      <td>6054</td>\n",
       "      <td>NaN</td>\n",
       "    </tr>\n",
       "    <tr>\n",
       "      <td>6054</td>\n",
       "      <td>NaN</td>\n",
       "      <td>6055</td>\n",
       "      <td>NaN</td>\n",
       "    </tr>\n",
       "    <tr>\n",
       "      <td>6055</td>\n",
       "      <td>NaN</td>\n",
       "      <td>6056</td>\n",
       "      <td>NaN</td>\n",
       "    </tr>\n",
       "    <tr>\n",
       "      <td>6056</td>\n",
       "      <td>NaN</td>\n",
       "      <td>6057</td>\n",
       "      <td>NaN</td>\n",
       "    </tr>\n",
       "  </tbody>\n",
       "</table>\n",
       "<p>6057 rows × 3 columns</p>\n",
       "</div>"
      ],
      "text/plain": [
       "            DATE    ID  Precipitation\n",
       "0     01/01/1995     1           1.07\n",
       "1     01/02/1995     2           0.44\n",
       "2     01/03/1995     3           0.00\n",
       "3     01/04/1995     4           0.00\n",
       "4     01/05/1995     5           0.00\n",
       "...          ...   ...            ...\n",
       "6052         NaN  6053            NaN\n",
       "6053         NaN  6054            NaN\n",
       "6054         NaN  6055            NaN\n",
       "6055         NaN  6056            NaN\n",
       "6056         NaN  6057            NaN\n",
       "\n",
       "[6057 rows x 3 columns]"
      ]
     },
     "execution_count": 22,
     "metadata": {},
     "output_type": "execute_result"
    }
   ],
   "source": [
    "# research:\n",
    "# data cleaning is needed because NaN values are in both columns\n",
    "rainfall"
   ]
  },
  {
   "cell_type": "code",
   "execution_count": 23,
   "metadata": {},
   "outputs": [
    {
     "data": {
      "text/html": [
       "<div>\n",
       "<style scoped>\n",
       "    .dataframe tbody tr th:only-of-type {\n",
       "        vertical-align: middle;\n",
       "    }\n",
       "\n",
       "    .dataframe tbody tr th {\n",
       "        vertical-align: top;\n",
       "    }\n",
       "\n",
       "    .dataframe thead th {\n",
       "        text-align: right;\n",
       "    }\n",
       "</style>\n",
       "<table border=\"1\" class=\"dataframe\">\n",
       "  <thead>\n",
       "    <tr style=\"text-align: right;\">\n",
       "      <th></th>\n",
       "      <th>DATE</th>\n",
       "      <th>ID</th>\n",
       "      <th>Precipitation</th>\n",
       "    </tr>\n",
       "  </thead>\n",
       "  <tbody>\n",
       "    <tr>\n",
       "      <td>0</td>\n",
       "      <td>01/01/1995</td>\n",
       "      <td>1</td>\n",
       "      <td>1.07</td>\n",
       "    </tr>\n",
       "    <tr>\n",
       "      <td>1</td>\n",
       "      <td>01/02/1995</td>\n",
       "      <td>2</td>\n",
       "      <td>0.44</td>\n",
       "    </tr>\n",
       "    <tr>\n",
       "      <td>2</td>\n",
       "      <td>01/03/1995</td>\n",
       "      <td>3</td>\n",
       "      <td>0.00</td>\n",
       "    </tr>\n",
       "    <tr>\n",
       "      <td>3</td>\n",
       "      <td>01/04/1995</td>\n",
       "      <td>4</td>\n",
       "      <td>0.00</td>\n",
       "    </tr>\n",
       "    <tr>\n",
       "      <td>4</td>\n",
       "      <td>01/05/1995</td>\n",
       "      <td>5</td>\n",
       "      <td>0.00</td>\n",
       "    </tr>\n",
       "    <tr>\n",
       "      <td>...</td>\n",
       "      <td>...</td>\n",
       "      <td>...</td>\n",
       "      <td>...</td>\n",
       "    </tr>\n",
       "    <tr>\n",
       "      <td>5939</td>\n",
       "      <td>3/12/2011</td>\n",
       "      <td>5940</td>\n",
       "      <td>0.00</td>\n",
       "    </tr>\n",
       "    <tr>\n",
       "      <td>5940</td>\n",
       "      <td>1/11/2011</td>\n",
       "      <td>5941</td>\n",
       "      <td>0.00</td>\n",
       "    </tr>\n",
       "    <tr>\n",
       "      <td>5941</td>\n",
       "      <td>1/10/2011</td>\n",
       "      <td>5942</td>\n",
       "      <td>0.00</td>\n",
       "    </tr>\n",
       "    <tr>\n",
       "      <td>5942</td>\n",
       "      <td>1/9/2011</td>\n",
       "      <td>5943</td>\n",
       "      <td>0.13</td>\n",
       "    </tr>\n",
       "    <tr>\n",
       "      <td>5943</td>\n",
       "      <td>1/8/2011</td>\n",
       "      <td>5944</td>\n",
       "      <td>0.16</td>\n",
       "    </tr>\n",
       "  </tbody>\n",
       "</table>\n",
       "<p>5944 rows × 3 columns</p>\n",
       "</div>"
      ],
      "text/plain": [
       "            DATE    ID  Precipitation\n",
       "0     01/01/1995     1           1.07\n",
       "1     01/02/1995     2           0.44\n",
       "2     01/03/1995     3           0.00\n",
       "3     01/04/1995     4           0.00\n",
       "4     01/05/1995     5           0.00\n",
       "...          ...   ...            ...\n",
       "5939   3/12/2011  5940           0.00\n",
       "5940   1/11/2011  5941           0.00\n",
       "5941   1/10/2011  5942           0.00\n",
       "5942    1/9/2011  5943           0.13\n",
       "5943    1/8/2011  5944           0.16\n",
       "\n",
       "[5944 rows x 3 columns]"
      ]
     },
     "execution_count": 23,
     "metadata": {},
     "output_type": "execute_result"
    }
   ],
   "source": [
    "# data cleaning: drop all rows that have any NA values\n",
    "rainfall = rainfall.dropna()\n",
    "\n",
    "rainfall"
   ]
  },
  {
   "cell_type": "code",
   "execution_count": 24,
   "metadata": {},
   "outputs": [
    {
     "data": {
      "text/plain": [
       "Timestamp('1995-01-01 00:00:00')"
      ]
     },
     "execution_count": 24,
     "metadata": {},
     "output_type": "execute_result"
    }
   ],
   "source": [
    "# convert date from string to datetime\n",
    "# (data type is actually pandas._libs.tslibs.timestamps.Timestamp )\n",
    "\n",
    "# turns off warning described in below webpages (it appears to be a false error)\n",
    "# https://stackoverflow.com/questions/20625582/how-to-deal-with-settingwithcopywarning-in-pandas\n",
    "# https://www.dataquest.io/blog/settingwithcopywarning/\n",
    "pd.options.mode.chained_assignment = None  # default='warn'\n",
    "\n",
    "# convert datatype here:\n",
    "rainfall['DATE'] = pd.to_datetime( rainfall['DATE'] )\n",
    "\n",
    "# turn warning back on:\n",
    "pd.options.mode.chained_assignment = 'warn'\n",
    "\n",
    "rainfall['DATE'][0]"
   ]
  },
  {
   "cell_type": "code",
   "execution_count": 25,
   "metadata": {},
   "outputs": [],
   "source": [
    "# turns off warning described in below webpages (it appears to be a false error)\n",
    "# https://stackoverflow.com/questions/20625582/how-to-deal-with-settingwithcopywarning-in-pandas\n",
    "# https://www.dataquest.io/blog/settingwithcopywarning/\n",
    "pd.options.mode.chained_assignment = None  # default='warn'\n",
    "\n",
    "rainfall['Season_Collected'] = (rainfall[\"DATE\"]).apply(date_to_season)\n",
    "\n",
    "# turn warning back on:\n",
    "pd.options.mode.chained_assignment = 'warn'"
   ]
  },
  {
   "cell_type": "code",
   "execution_count": 26,
   "metadata": {},
   "outputs": [],
   "source": [
    "# create a year column (note most error turns off warning)\n",
    "\n",
    "# turns off warning described in below webpages (it appears to be a false error)\n",
    "# https://stackoverflow.com/questions/20625582/how-to-deal-with-settingwithcopywarning-in-pandas\n",
    "# https://www.dataquest.io/blog/settingwithcopywarning/\n",
    "pd.options.mode.chained_assignment = None  # default='warn'\n",
    "\n",
    "# this line creates the year column\n",
    "rainfall['Year'] = rainfall.DATE.apply(lambda row: row.year)\n",
    "\n",
    "# turn warning back on:\n",
    "pd.options.mode.chained_assignment = 'warn'\n"
   ]
  },
  {
   "cell_type": "code",
   "execution_count": 27,
   "metadata": {},
   "outputs": [
    {
     "data": {
      "text/html": [
       "<div>\n",
       "<style scoped>\n",
       "    .dataframe tbody tr th:only-of-type {\n",
       "        vertical-align: middle;\n",
       "    }\n",
       "\n",
       "    .dataframe tbody tr th {\n",
       "        vertical-align: top;\n",
       "    }\n",
       "\n",
       "    .dataframe thead th {\n",
       "        text-align: right;\n",
       "    }\n",
       "</style>\n",
       "<table border=\"1\" class=\"dataframe\">\n",
       "  <thead>\n",
       "    <tr style=\"text-align: right;\">\n",
       "      <th></th>\n",
       "      <th>DATE</th>\n",
       "      <th>ID</th>\n",
       "      <th>Precipitation</th>\n",
       "      <th>Season_Collected</th>\n",
       "      <th>Year</th>\n",
       "    </tr>\n",
       "  </thead>\n",
       "  <tbody>\n",
       "    <tr>\n",
       "      <td>0</td>\n",
       "      <td>1995-01-01</td>\n",
       "      <td>1</td>\n",
       "      <td>1.07</td>\n",
       "      <td>19951</td>\n",
       "      <td>1995</td>\n",
       "    </tr>\n",
       "    <tr>\n",
       "      <td>1</td>\n",
       "      <td>1995-01-02</td>\n",
       "      <td>2</td>\n",
       "      <td>0.44</td>\n",
       "      <td>19951</td>\n",
       "      <td>1995</td>\n",
       "    </tr>\n",
       "    <tr>\n",
       "      <td>2</td>\n",
       "      <td>1995-01-03</td>\n",
       "      <td>3</td>\n",
       "      <td>0.00</td>\n",
       "      <td>19951</td>\n",
       "      <td>1995</td>\n",
       "    </tr>\n",
       "    <tr>\n",
       "      <td>3</td>\n",
       "      <td>1995-01-04</td>\n",
       "      <td>4</td>\n",
       "      <td>0.00</td>\n",
       "      <td>19951</td>\n",
       "      <td>1995</td>\n",
       "    </tr>\n",
       "    <tr>\n",
       "      <td>4</td>\n",
       "      <td>1995-01-05</td>\n",
       "      <td>5</td>\n",
       "      <td>0.00</td>\n",
       "      <td>19951</td>\n",
       "      <td>1995</td>\n",
       "    </tr>\n",
       "    <tr>\n",
       "      <td>...</td>\n",
       "      <td>...</td>\n",
       "      <td>...</td>\n",
       "      <td>...</td>\n",
       "      <td>...</td>\n",
       "      <td>...</td>\n",
       "    </tr>\n",
       "    <tr>\n",
       "      <td>5939</td>\n",
       "      <td>2011-03-12</td>\n",
       "      <td>5940</td>\n",
       "      <td>0.00</td>\n",
       "      <td>20112</td>\n",
       "      <td>2011</td>\n",
       "    </tr>\n",
       "    <tr>\n",
       "      <td>5940</td>\n",
       "      <td>2011-01-11</td>\n",
       "      <td>5941</td>\n",
       "      <td>0.00</td>\n",
       "      <td>20111</td>\n",
       "      <td>2011</td>\n",
       "    </tr>\n",
       "    <tr>\n",
       "      <td>5941</td>\n",
       "      <td>2011-01-10</td>\n",
       "      <td>5942</td>\n",
       "      <td>0.00</td>\n",
       "      <td>20111</td>\n",
       "      <td>2011</td>\n",
       "    </tr>\n",
       "    <tr>\n",
       "      <td>5942</td>\n",
       "      <td>2011-01-09</td>\n",
       "      <td>5943</td>\n",
       "      <td>0.13</td>\n",
       "      <td>20111</td>\n",
       "      <td>2011</td>\n",
       "    </tr>\n",
       "    <tr>\n",
       "      <td>5943</td>\n",
       "      <td>2011-01-08</td>\n",
       "      <td>5944</td>\n",
       "      <td>0.16</td>\n",
       "      <td>20111</td>\n",
       "      <td>2011</td>\n",
       "    </tr>\n",
       "  </tbody>\n",
       "</table>\n",
       "<p>5944 rows × 5 columns</p>\n",
       "</div>"
      ],
      "text/plain": [
       "           DATE    ID  Precipitation  Season_Collected  Year\n",
       "0    1995-01-01     1           1.07             19951  1995\n",
       "1    1995-01-02     2           0.44             19951  1995\n",
       "2    1995-01-03     3           0.00             19951  1995\n",
       "3    1995-01-04     4           0.00             19951  1995\n",
       "4    1995-01-05     5           0.00             19951  1995\n",
       "...         ...   ...            ...               ...   ...\n",
       "5939 2011-03-12  5940           0.00             20112  2011\n",
       "5940 2011-01-11  5941           0.00             20111  2011\n",
       "5941 2011-01-10  5942           0.00             20111  2011\n",
       "5942 2011-01-09  5943           0.13             20111  2011\n",
       "5943 2011-01-08  5944           0.16             20111  2011\n",
       "\n",
       "[5944 rows x 5 columns]"
      ]
     },
     "execution_count": 27,
     "metadata": {},
     "output_type": "execute_result"
    }
   ],
   "source": [
    "rainfall"
   ]
  },
  {
   "cell_type": "code",
   "execution_count": 28,
   "metadata": {},
   "outputs": [
    {
     "data": {
      "text/plain": [
       "<matplotlib.axes._subplots.AxesSubplot at 0x1c440126d08>"
      ]
     },
     "execution_count": 28,
     "metadata": {},
     "output_type": "execute_result"
    },
    {
     "data": {
      "image/png": "[encoded data removed]",
      "text/plain": [
       "<Figure size 432x288 with 1 Axes>"
      ]
     },
     "metadata": {
      "needs_background": "light"
     },
     "output_type": "display_data"
    }
   ],
   "source": [
    "# plotting rainfall values:\n",
    "# reset index is necessary make the index go from 0 to (length-1)\n",
    "\n",
    "# note the cycle observed here is due to the change of seasons throughout the year\n",
    "\n",
    "rain_plot = ( rainfall.sort_values(by=['DATE']) )['Precipitation']\n",
    "rain_plot.reset_index(drop=True).plot()"
   ]
  },
  {
   "cell_type": "code",
   "execution_count": 29,
   "metadata": {},
   "outputs": [],
   "source": [
    "# only use summertime data\n",
    "# This is because people are more likely to go boating on and swimming in the\n",
    "# Charles River during the summer, therefore summertime conditions are \n",
    "# anticipated to be more of interest to the CRWA than the other three seasons\n",
    "rainfall_summer = rainfall[rainfall['Season_Collected']%10 == 3]"
   ]
  },
  {
   "cell_type": "code",
   "execution_count": 30,
   "metadata": {},
   "outputs": [
    {
     "data": {
      "text/plain": [
       "Text(0.5, 1.0, '')"
      ]
     },
     "execution_count": 30,
     "metadata": {},
     "output_type": "execute_result"
    },
    {
     "data": {
      "image/png": "[encoded data removed]",
      "text/plain": [
       "<Figure size 432x288 with 1 Axes>"
      ]
     },
     "metadata": {
      "needs_background": "light"
     },
     "output_type": "display_data"
    }
   ],
   "source": [
    "# create boxplot of summer data\n",
    "# improvements wanted:  change title,\n",
    "# use analysis showing the overall trend (if any)\n",
    "\n",
    "# NOTE:  the most recent data is from 2012\n",
    "\n",
    "# boxplot command\n",
    "ax = rainfall_summer.boxplot(by='Year', column='Precipitation', rot=90)\n",
    "\n",
    "# labelling\n",
    "ax.set_xlabel(\"Summer (June through August of Year)\")\n",
    "ax.set_ylabel(\"Precipitation\")\n",
    "ax.set_title(\"\")"
   ]
  },
  {
   "cell_type": "code",
   "execution_count": 31,
   "metadata": {},
   "outputs": [
    {
     "data": {
      "text/plain": [
       "<matplotlib.axes._subplots.AxesSubplot at 0x1c440389a08>"
      ]
     },
     "execution_count": 31,
     "metadata": {},
     "output_type": "execute_result"
    },
    {
     "data": {
      "image/png": "[encoded data removed]",
      "text/plain": [
       "<Figure size 432x288 with 1 Axes>"
      ]
     },
     "metadata": {
      "needs_background": "light"
     },
     "output_type": "display_data"
    }
   ],
   "source": [
    "# plotting temperature results values:\n",
    "# reset index is necessary make the index go from 0 to (length-1)\n",
    "\n",
    "# note the cycle observed here is due to the change of seasons throughout the year\n",
    "\n",
    "rain_plot = ( rainfall_summer.sort_values(by=['DATE']) )['Precipitation']\n",
    "rain_plot.reset_index(drop=True).plot()"
   ]
  },
  {
   "cell_type": "code",
   "execution_count": null,
   "metadata": {},
   "outputs": [],
   "source": []
  }
 ],
 "metadata": {
  "kernelspec": {
   "display_name": "Python 3",
   "language": "python",
   "name": "python3"
  },
  "language_info": {
   "codemirror_mode": {
    "name": "ipython",
    "version": 3
   },
   "file_extension": ".py",
   "mimetype": "text/x-python",
   "name": "python",
   "nbconvert_exporter": "python",
   "pygments_lexer": "ipython3",
   "version": "3.7.4"
  },
  "toc": {
   "base_numbering": 1,
   "nav_menu": {},
   "number_sections": true,
   "sideBar": true,
   "skip_h1_title": false,
   "title_cell": "Table of Contents",
   "title_sidebar": "Contents",
   "toc_cell": false,
   "toc_position": {},
   "toc_section_display": true,
   "toc_window_display": false
  }
 },
 "nbformat": 4,
 "nbformat_minor": 2
}
